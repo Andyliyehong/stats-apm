{
 "cells": [
  {
   "cell_type": "markdown",
   "metadata": {},
   "source": [
    "# Computing - Chapter 03 - (Python)"
   ]
  },
  {
   "cell_type": "code",
   "execution_count": 1,
   "metadata": {
    "collapsed": true
   },
   "outputs": [],
   "source": [
    "import numpy as np\n",
    "import pandas as pd\n",
    "from pandas import DataFrame,Series"
   ]
  },
  {
   "cell_type": "code",
   "execution_count": 2,
   "metadata": {
    "collapsed": true
   },
   "outputs": [],
   "source": [
    "import matplotlib.pyplot as plt\n",
    "%matplotlib inline"
   ]
  },
  {
   "cell_type": "code",
   "execution_count": 3,
   "metadata": {},
   "outputs": [
    {
     "data": {
      "text/html": [
       "<div>\n",
       "<table border=\"1\" class=\"dataframe\">\n",
       "  <thead>\n",
       "    <tr style=\"text-align: right;\">\n",
       "      <th></th>\n",
       "      <th>Cell</th>\n",
       "      <th>Case</th>\n",
       "      <th>Class</th>\n",
       "      <th>AngleCh1</th>\n",
       "      <th>AngleStatusCh1</th>\n",
       "      <th>AreaCh1</th>\n",
       "      <th>AreaStatusCh1</th>\n",
       "      <th>AvgIntenCh1</th>\n",
       "      <th>AvgIntenCh2</th>\n",
       "      <th>AvgIntenCh3</th>\n",
       "      <th>...</th>\n",
       "      <th>VarIntenCh1</th>\n",
       "      <th>VarIntenCh3</th>\n",
       "      <th>VarIntenCh4</th>\n",
       "      <th>VarIntenStatusCh1</th>\n",
       "      <th>VarIntenStatusCh3</th>\n",
       "      <th>VarIntenStatusCh4</th>\n",
       "      <th>WidthCh1</th>\n",
       "      <th>WidthStatusCh1</th>\n",
       "      <th>XCentroid</th>\n",
       "      <th>YCentroid</th>\n",
       "    </tr>\n",
       "  </thead>\n",
       "  <tbody>\n",
       "    <tr>\n",
       "      <th>0</th>\n",
       "      <td>207827637</td>\n",
       "      <td>Test</td>\n",
       "      <td>PS</td>\n",
       "      <td>143.247705</td>\n",
       "      <td>1</td>\n",
       "      <td>185</td>\n",
       "      <td>0</td>\n",
       "      <td>15.711864</td>\n",
       "      <td>3.954802</td>\n",
       "      <td>9.548023</td>\n",
       "      <td>...</td>\n",
       "      <td>12.474676</td>\n",
       "      <td>7.609035</td>\n",
       "      <td>2.714100</td>\n",
       "      <td>0</td>\n",
       "      <td>2</td>\n",
       "      <td>2</td>\n",
       "      <td>10.642974</td>\n",
       "      <td>2</td>\n",
       "      <td>42</td>\n",
       "      <td>14</td>\n",
       "    </tr>\n",
       "    <tr>\n",
       "      <th>1</th>\n",
       "      <td>207932307</td>\n",
       "      <td>Train</td>\n",
       "      <td>PS</td>\n",
       "      <td>133.752037</td>\n",
       "      <td>0</td>\n",
       "      <td>819</td>\n",
       "      <td>1</td>\n",
       "      <td>31.923274</td>\n",
       "      <td>205.878517</td>\n",
       "      <td>69.916880</td>\n",
       "      <td>...</td>\n",
       "      <td>18.809225</td>\n",
       "      <td>56.715352</td>\n",
       "      <td>118.388139</td>\n",
       "      <td>0</td>\n",
       "      <td>0</td>\n",
       "      <td>0</td>\n",
       "      <td>32.161261</td>\n",
       "      <td>1</td>\n",
       "      <td>215</td>\n",
       "      <td>347</td>\n",
       "    </tr>\n",
       "    <tr>\n",
       "      <th>2</th>\n",
       "      <td>207932463</td>\n",
       "      <td>Train</td>\n",
       "      <td>WS</td>\n",
       "      <td>106.646387</td>\n",
       "      <td>0</td>\n",
       "      <td>431</td>\n",
       "      <td>0</td>\n",
       "      <td>28.038835</td>\n",
       "      <td>115.315534</td>\n",
       "      <td>63.941748</td>\n",
       "      <td>...</td>\n",
       "      <td>17.295643</td>\n",
       "      <td>37.671053</td>\n",
       "      <td>49.470524</td>\n",
       "      <td>0</td>\n",
       "      <td>0</td>\n",
       "      <td>0</td>\n",
       "      <td>21.185525</td>\n",
       "      <td>0</td>\n",
       "      <td>371</td>\n",
       "      <td>252</td>\n",
       "    </tr>\n",
       "    <tr>\n",
       "      <th>3</th>\n",
       "      <td>207932470</td>\n",
       "      <td>Train</td>\n",
       "      <td>PS</td>\n",
       "      <td>69.150325</td>\n",
       "      <td>0</td>\n",
       "      <td>298</td>\n",
       "      <td>0</td>\n",
       "      <td>19.456140</td>\n",
       "      <td>101.294737</td>\n",
       "      <td>28.217544</td>\n",
       "      <td>...</td>\n",
       "      <td>13.818968</td>\n",
       "      <td>30.005643</td>\n",
       "      <td>24.749537</td>\n",
       "      <td>0</td>\n",
       "      <td>0</td>\n",
       "      <td>2</td>\n",
       "      <td>13.392830</td>\n",
       "      <td>0</td>\n",
       "      <td>487</td>\n",
       "      <td>295</td>\n",
       "    </tr>\n",
       "    <tr>\n",
       "      <th>4</th>\n",
       "      <td>207932455</td>\n",
       "      <td>Test</td>\n",
       "      <td>PS</td>\n",
       "      <td>2.887837</td>\n",
       "      <td>2</td>\n",
       "      <td>285</td>\n",
       "      <td>0</td>\n",
       "      <td>24.275735</td>\n",
       "      <td>111.415441</td>\n",
       "      <td>20.474265</td>\n",
       "      <td>...</td>\n",
       "      <td>15.407972</td>\n",
       "      <td>20.504288</td>\n",
       "      <td>45.450457</td>\n",
       "      <td>0</td>\n",
       "      <td>0</td>\n",
       "      <td>0</td>\n",
       "      <td>13.198561</td>\n",
       "      <td>0</td>\n",
       "      <td>283</td>\n",
       "      <td>159</td>\n",
       "    </tr>\n",
       "  </tbody>\n",
       "</table>\n",
       "<p>5 rows × 119 columns</p>\n",
       "</div>"
      ],
      "text/plain": [
       "        Cell   Case Class    AngleCh1  AngleStatusCh1  AreaCh1  AreaStatusCh1  \\\n",
       "0  207827637   Test    PS  143.247705               1      185              0   \n",
       "1  207932307  Train    PS  133.752037               0      819              1   \n",
       "2  207932463  Train    WS  106.646387               0      431              0   \n",
       "3  207932470  Train    PS   69.150325               0      298              0   \n",
       "4  207932455   Test    PS    2.887837               2      285              0   \n",
       "\n",
       "   AvgIntenCh1  AvgIntenCh2  AvgIntenCh3    ...      VarIntenCh1  VarIntenCh3  \\\n",
       "0    15.711864     3.954802     9.548023    ...        12.474676     7.609035   \n",
       "1    31.923274   205.878517    69.916880    ...        18.809225    56.715352   \n",
       "2    28.038835   115.315534    63.941748    ...        17.295643    37.671053   \n",
       "3    19.456140   101.294737    28.217544    ...        13.818968    30.005643   \n",
       "4    24.275735   111.415441    20.474265    ...        15.407972    20.504288   \n",
       "\n",
       "   VarIntenCh4  VarIntenStatusCh1  VarIntenStatusCh3  VarIntenStatusCh4  \\\n",
       "0     2.714100                  0                  2                  2   \n",
       "1   118.388139                  0                  0                  0   \n",
       "2    49.470524                  0                  0                  0   \n",
       "3    24.749537                  0                  0                  2   \n",
       "4    45.450457                  0                  0                  0   \n",
       "\n",
       "    WidthCh1  WidthStatusCh1  XCentroid  YCentroid  \n",
       "0  10.642974               2         42         14  \n",
       "1  32.161261               1        215        347  \n",
       "2  21.185525               0        371        252  \n",
       "3  13.392830               0        487        295  \n",
       "4  13.198561               0        283        159  \n",
       "\n",
       "[5 rows x 119 columns]"
      ]
     },
     "execution_count": 3,
     "metadata": {},
     "output_type": "execute_result"
    }
   ],
   "source": [
    "# load the data from a file\n",
    "DATA_PATH = \"../data\"\n",
    "segDataRaw = pd.read_csv(DATA_PATH + \"/segmentationOriginal.csv\")\n",
    "segDataRaw.head()"
   ]
  },
  {
   "cell_type": "code",
   "execution_count": 4,
   "metadata": {
    "collapsed": true
   },
   "outputs": [],
   "source": [
    "# isolate just the training examples\n",
    "segData = segDataRaw[segDataRaw.Case == \"Train\"]"
   ]
  },
  {
   "cell_type": "code",
   "execution_count": 5,
   "metadata": {
    "collapsed": true
   },
   "outputs": [],
   "source": [
    "# pull out some of the columns\n",
    "cellId = segData.Cell\n",
    "cellClass = segData['Class']\n",
    "case = segData.Case"
   ]
  },
  {
   "cell_type": "code",
   "execution_count": 6,
   "metadata": {
    "collapsed": true
   },
   "outputs": [],
   "source": [
    "# now remove the columns\n",
    "segData = segData.drop(['Cell', 'Class', 'Case'], axis=1)"
   ]
  },
  {
   "cell_type": "code",
   "execution_count": 7,
   "metadata": {
    "collapsed": true
   },
   "outputs": [],
   "source": [
    "# remove all \"Status\" columns\n",
    "segData = segData.drop([c for c in segData.columns if \"Status\" in c], axis=1)"
   ]
  },
  {
   "cell_type": "markdown",
   "metadata": {},
   "source": [
    "## Transformations"
   ]
  },
  {
   "cell_type": "markdown",
   "metadata": {},
   "source": [
    "### Skewness"
   ]
  },
  {
   "cell_type": "code",
   "execution_count": 8,
   "metadata": {},
   "outputs": [
    {
     "data": {
      "text/plain": [
       "-0.024298630435426738"
      ]
     },
     "execution_count": 8,
     "metadata": {},
     "output_type": "execute_result"
    }
   ],
   "source": [
    "# for one predictor\n",
    "from scipy.stats import skew\n",
    "skew(segData.AngleCh1)"
   ]
  },
  {
   "cell_type": "code",
   "execution_count": 9,
   "metadata": {},
   "outputs": [
    {
     "name": "stdout",
     "output_type": "stream",
     "text": [
      "('AngleCh1', -0.024298630435426738)\n",
      "('AreaCh1', 3.5303544460710095)\n",
      "('AvgIntenCh1', 2.9635898861967189)\n",
      "('AvgIntenCh2', 0.84942278590563092)\n",
      "('AvgIntenCh3', 2.2056202512609824)\n"
     ]
    }
   ],
   "source": [
    "# apply across all columns\n",
    "skewValues = segData.apply(skew, axis=0)\n",
    "[print(x) for x in list(zip(segData.columns, skewValues))[0:5]];"
   ]
  },
  {
   "cell_type": "markdown",
   "metadata": {},
   "source": [
    "### Box Cox Transformation"
   ]
  },
  {
   "cell_type": "code",
   "execution_count": 10,
   "metadata": {},
   "outputs": [
    {
     "name": "stdout",
     "output_type": "stream",
     "text": [
      "count    1009.000000\n",
      "mean      325.125867\n",
      "std       216.555276\n",
      "min       150.000000\n",
      "25%       194.000000\n",
      "50%       256.000000\n",
      "75%       376.000000\n",
      "max      2186.000000\n",
      "Name: AreaCh1, dtype: float64\n",
      "Largest/Smallest: 14.6\n",
      "Sample Skewness: 3.54\n",
      "Estimated Lambda: -0.855869\n",
      "example transformed values: [ 1.16465199  1.16190479  1.15949121  1.15825373  1.15832111] ...\n"
     ]
    }
   ],
   "source": [
    "# find the appropriate box cox transform and apply to values\n",
    "from scipy.stats import boxcox\n",
    "\n",
    "(boxCoxTrans, lmbda) = boxcox(segData.AreaCh1)\n",
    "print(segData.AreaCh1.describe())\n",
    "print('Largest/Smallest: %.1f' % (segData.AreaCh1.max()/segData.AreaCh1.min()))\n",
    "print('Sample Skewness: %.2f' % (segData.AreaCh1.skew(),))\n",
    "\n",
    "print('Estimated Lambda: %f' % (lmbda,))\n",
    "print('example transformed values: %s ...' % boxCoxTrans[0:5])"
   ]
  },
  {
   "cell_type": "code",
   "execution_count": 11,
   "metadata": {},
   "outputs": [
    {
     "data": {
      "text/plain": [
       "1     819\n",
       "2     431\n",
       "3     298\n",
       "11    256\n",
       "14    258\n",
       "Name: AreaCh1, dtype: int64"
      ]
     },
     "execution_count": 11,
     "metadata": {},
     "output_type": "execute_result"
    }
   ],
   "source": [
    "# for comparison, perform the manual transformation using the lambda value generated above\n",
    "segData.AreaCh1.head()"
   ]
  },
  {
   "cell_type": "code",
   "execution_count": 12,
   "metadata": {},
   "outputs": [
    {
     "name": "stdout",
     "output_type": "stream",
     "text": [
      "Automatically generated transformation: 1.164652\n",
      "Manually generated transformation: 1.164652\n"
     ]
    }
   ],
   "source": [
    "import math\n",
    "\n",
    "print(\"Automatically generated transformation: %f\" % boxCoxTrans[0])\n",
    "manuallyGenerated = (math.pow(segData.AreaCh1[1], lmbda) - 1) / lmbda\n",
    "print(\"Manually generated transformation: %f\" % manuallyGenerated)"
   ]
  },
  {
   "cell_type": "markdown",
   "metadata": {},
   "source": [
    "### Scaling"
   ]
  },
  {
   "cell_type": "code",
   "execution_count": 13,
   "metadata": {},
   "outputs": [
    {
     "name": "stdout",
     "output_type": "stream",
     "text": [
      "[  91.12640825  325.1258672   127.91502974  185.19067407   96.12916894]\n",
      "[  48.88765639  216.44793745  163.93228319  153.91029071   93.48906669]\n"
     ]
    }
   ],
   "source": [
    "import sklearn.preprocessing\n",
    "\n",
    "scaler = sklearn.preprocessing.StandardScaler().fit(segData)\n",
    "\n",
    "print(scaler.mean_[0:5])\n",
    "print(scaler.scale_[0:5])\n",
    "\n",
    "scaledData = scaler.transform(segData)\n",
    "\n",
    "# TODO: zip columns, scaler mean/std, pd mean/std"
   ]
  },
  {
   "cell_type": "markdown",
   "metadata": {},
   "source": [
    "### PCA"
   ]
  },
  {
   "cell_type": "code",
   "execution_count": 14,
   "metadata": {},
   "outputs": [
    {
     "data": {
      "text/plain": [
       "[20.91235927892339, 17.013300362584811, 11.886891590935015]"
      ]
     },
     "execution_count": 14,
     "metadata": {},
     "output_type": "execute_result"
    }
   ],
   "source": [
    "from sklearn.decomposition import PCA\n",
    "\n",
    "pca = PCA()\n",
    "pcaObject = pca.fit(scaledData)\n",
    "percentVariance = [pctVariance * 100 for pctVariance in pcaObject.explained_variance_ratio_]\n",
    "percentVariance[0:3]"
   ]
  },
  {
   "cell_type": "code",
   "execution_count": 15,
   "metadata": {},
   "outputs": [
    {
     "data": {
      "text/html": [
       "<div>\n",
       "<table border=\"1\" class=\"dataframe\">\n",
       "  <thead>\n",
       "    <tr style=\"text-align: right;\">\n",
       "      <th></th>\n",
       "      <th>PC1</th>\n",
       "      <th>PC2</th>\n",
       "      <th>PC3</th>\n",
       "      <th>PC4</th>\n",
       "      <th>PC5</th>\n",
       "    </tr>\n",
       "  </thead>\n",
       "  <tbody>\n",
       "    <tr>\n",
       "      <th>0</th>\n",
       "      <td>5.101103</td>\n",
       "      <td>4.553637</td>\n",
       "      <td>-0.033468</td>\n",
       "      <td>-2.641648</td>\n",
       "      <td>1.278955</td>\n",
       "    </tr>\n",
       "    <tr>\n",
       "      <th>1</th>\n",
       "      <td>-0.254752</td>\n",
       "      <td>1.198627</td>\n",
       "      <td>-1.021102</td>\n",
       "      <td>-3.732929</td>\n",
       "      <td>0.999959</td>\n",
       "    </tr>\n",
       "    <tr>\n",
       "      <th>2</th>\n",
       "      <td>1.293535</td>\n",
       "      <td>-1.864859</td>\n",
       "      <td>-1.251725</td>\n",
       "      <td>-2.416054</td>\n",
       "      <td>-1.492223</td>\n",
       "    </tr>\n",
       "    <tr>\n",
       "      <th>3</th>\n",
       "      <td>-1.465388</td>\n",
       "      <td>-1.566609</td>\n",
       "      <td>0.469854</td>\n",
       "      <td>-3.390396</td>\n",
       "      <td>-0.330396</td>\n",
       "    </tr>\n",
       "    <tr>\n",
       "      <th>4</th>\n",
       "      <td>-0.876712</td>\n",
       "      <td>-1.279640</td>\n",
       "      <td>-1.338606</td>\n",
       "      <td>-3.518538</td>\n",
       "      <td>0.393805</td>\n",
       "    </tr>\n",
       "  </tbody>\n",
       "</table>\n",
       "</div>"
      ],
      "text/plain": [
       "        PC1       PC2       PC3       PC4       PC5\n",
       "0  5.101103  4.553637 -0.033468 -2.641648  1.278955\n",
       "1 -0.254752  1.198627 -1.021102 -3.732929  0.999959\n",
       "2  1.293535 -1.864859 -1.251725 -2.416054 -1.492223\n",
       "3 -1.465388 -1.566609  0.469854 -3.390396 -0.330396\n",
       "4 -0.876712 -1.279640 -1.338606 -3.518538  0.393805"
      ]
     },
     "execution_count": 15,
     "metadata": {},
     "output_type": "execute_result"
    }
   ],
   "source": [
    "pcaTransform = DataFrame(pca.transform(scaledData)).iloc[0:5, 0:5]\n",
    "pcaTransform.columns = [\"PC1\", \"PC2\", \"PC3\", \"PC4\", \"PC5\"]\n",
    "pcaTransform"
   ]
  },
  {
   "cell_type": "code",
   "execution_count": 16,
   "metadata": {},
   "outputs": [
    {
     "data": {
      "text/html": [
       "<div>\n",
       "<table border=\"1\" class=\"dataframe\">\n",
       "  <thead>\n",
       "    <tr style=\"text-align: right;\">\n",
       "      <th></th>\n",
       "      <th>PC1</th>\n",
       "      <th>PC2</th>\n",
       "      <th>PC3</th>\n",
       "      <th>PC4</th>\n",
       "      <th>PC5</th>\n",
       "    </tr>\n",
       "  </thead>\n",
       "  <tbody>\n",
       "    <tr>\n",
       "      <th>AngleCh1</th>\n",
       "      <td>0.001214</td>\n",
       "      <td>-0.012845</td>\n",
       "      <td>0.006816</td>\n",
       "      <td>-0.027557</td>\n",
       "      <td>0.025237</td>\n",
       "    </tr>\n",
       "    <tr>\n",
       "      <th>AreaCh1</th>\n",
       "      <td>0.229172</td>\n",
       "      <td>0.160617</td>\n",
       "      <td>0.089812</td>\n",
       "      <td>-0.055231</td>\n",
       "      <td>0.052735</td>\n",
       "    </tr>\n",
       "    <tr>\n",
       "      <th>AvgIntenCh1</th>\n",
       "      <td>-0.102709</td>\n",
       "      <td>0.179713</td>\n",
       "      <td>0.067697</td>\n",
       "      <td>0.186756</td>\n",
       "      <td>0.024012</td>\n",
       "    </tr>\n",
       "    <tr>\n",
       "      <th>AvgIntenCh2</th>\n",
       "      <td>-0.154829</td>\n",
       "      <td>0.163760</td>\n",
       "      <td>0.073534</td>\n",
       "      <td>0.041458</td>\n",
       "      <td>0.078392</td>\n",
       "    </tr>\n",
       "    <tr>\n",
       "      <th>AvgIntenCh3</th>\n",
       "      <td>-0.058042</td>\n",
       "      <td>0.111977</td>\n",
       "      <td>-0.185473</td>\n",
       "      <td>0.282913</td>\n",
       "      <td>-0.078224</td>\n",
       "    </tr>\n",
       "    <tr>\n",
       "      <th>AvgIntenCh4</th>\n",
       "      <td>-0.117343</td>\n",
       "      <td>0.210391</td>\n",
       "      <td>-0.105061</td>\n",
       "      <td>0.011164</td>\n",
       "      <td>0.049905</td>\n",
       "    </tr>\n",
       "  </tbody>\n",
       "</table>\n",
       "</div>"
      ],
      "text/plain": [
       "                  PC1       PC2       PC3       PC4       PC5\n",
       "AngleCh1     0.001214 -0.012845  0.006816 -0.027557  0.025237\n",
       "AreaCh1      0.229172  0.160617  0.089812 -0.055231  0.052735\n",
       "AvgIntenCh1 -0.102709  0.179713  0.067697  0.186756  0.024012\n",
       "AvgIntenCh2 -0.154829  0.163760  0.073534  0.041458  0.078392\n",
       "AvgIntenCh3 -0.058042  0.111977 -0.185473  0.282913 -0.078224\n",
       "AvgIntenCh4 -0.117343  0.210391 -0.105061  0.011164  0.049905"
      ]
     },
     "execution_count": 16,
     "metadata": {},
     "output_type": "execute_result"
    }
   ],
   "source": [
    "pcaComponents = DataFrame(pcaObject.components_.T).iloc[0:6, 0:5]\n",
    "pcaComponents.columns = [\"PC1\", \"PC2\", \"PC3\", \"PC4\", \"PC5\"]\n",
    "pcaComponents.set_index(segData.columns[0:6])"
   ]
  },
  {
   "cell_type": "markdown",
   "metadata": {},
   "source": [
    "### Spatial Sign\n",
    "\n",
    "See ... (**TODO**)"
   ]
  },
  {
   "cell_type": "markdown",
   "metadata": {
    "collapsed": true
   },
   "source": [
    "### Impute via KNN\n",
    "\n",
    "**TODO**"
   ]
  },
  {
   "cell_type": "markdown",
   "metadata": {},
   "source": [
    "## Filtering"
   ]
  },
  {
   "cell_type": "markdown",
   "metadata": {},
   "source": [
    "### Near-zero Variance Features"
   ]
  },
  {
   "cell_type": "code",
   "execution_count": 17,
   "metadata": {},
   "outputs": [
    {
     "data": {
      "text/plain": [
       "array([ True,  True,  True,  True,  True,  True,  True,  True,  True,\n",
       "        True,  True,  True,  True,  True,  True,  True,  True,  True,\n",
       "        True,  True,  True,  True,  True,  True,  True,  True,  True,\n",
       "        True,  True,  True,  True,  True,  True,  True,  True,  True,\n",
       "        True,  True,  True,  True,  True,  True,  True,  True,  True,\n",
       "        True,  True,  True,  True,  True,  True,  True,  True,  True,\n",
       "        True,  True,  True,  True], dtype=bool)"
      ]
     },
     "execution_count": 17,
     "metadata": {},
     "output_type": "execute_result"
    }
   ],
   "source": [
    "# identify any predictors that are low variance (e.g. unique value across all entries, etc.) as potentials for removal\n",
    "from sklearn.feature_selection import VarianceThreshold\n",
    "\n",
    "selector = VarianceThreshold()\n",
    "selection = selector.fit(segData)\n",
    "\n",
    "# for our segmentation data, none of the predictors fit the conditions\n",
    "selection.get_support()\n",
    "\n",
    "# if there were any near-zero variance predictors, we could remove them using the\n",
    "# results as a column 'mask'\n",
    "# segData = segData.iloc[:, selection.get_support()]"
   ]
  },
  {
   "cell_type": "markdown",
   "metadata": {},
   "source": [
    "### Between-predictor correlations"
   ]
  },
  {
   "cell_type": "code",
   "execution_count": 18,
   "metadata": {},
   "outputs": [
    {
     "data": {
      "text/plain": [
       "(58, 58)"
      ]
     },
     "execution_count": 18,
     "metadata": {},
     "output_type": "execute_result"
    }
   ],
   "source": [
    "correlations = segData.corr()\n",
    "correlations.shape"
   ]
  },
  {
   "cell_type": "code",
   "execution_count": 19,
   "metadata": {},
   "outputs": [
    {
     "data": {
      "text/html": [
       "<div>\n",
       "<table border=\"1\" class=\"dataframe\">\n",
       "  <thead>\n",
       "    <tr style=\"text-align: right;\">\n",
       "      <th></th>\n",
       "      <th>AngleCh1</th>\n",
       "      <th>AreaCh1</th>\n",
       "      <th>AvgIntenCh1</th>\n",
       "      <th>AvgIntenCh2</th>\n",
       "    </tr>\n",
       "  </thead>\n",
       "  <tbody>\n",
       "    <tr>\n",
       "      <th>AngleCh1</th>\n",
       "      <td>1.000000</td>\n",
       "      <td>-0.002627</td>\n",
       "      <td>-0.043008</td>\n",
       "      <td>-0.019447</td>\n",
       "    </tr>\n",
       "    <tr>\n",
       "      <th>AreaCh1</th>\n",
       "      <td>-0.002627</td>\n",
       "      <td>1.000000</td>\n",
       "      <td>-0.025297</td>\n",
       "      <td>-0.153303</td>\n",
       "    </tr>\n",
       "    <tr>\n",
       "      <th>AvgIntenCh1</th>\n",
       "      <td>-0.043008</td>\n",
       "      <td>-0.025297</td>\n",
       "      <td>1.000000</td>\n",
       "      <td>0.525217</td>\n",
       "    </tr>\n",
       "    <tr>\n",
       "      <th>AvgIntenCh2</th>\n",
       "      <td>-0.019447</td>\n",
       "      <td>-0.153303</td>\n",
       "      <td>0.525217</td>\n",
       "      <td>1.000000</td>\n",
       "    </tr>\n",
       "  </tbody>\n",
       "</table>\n",
       "</div>"
      ],
      "text/plain": [
       "             AngleCh1   AreaCh1  AvgIntenCh1  AvgIntenCh2\n",
       "AngleCh1     1.000000 -0.002627    -0.043008    -0.019447\n",
       "AreaCh1     -0.002627  1.000000    -0.025297    -0.153303\n",
       "AvgIntenCh1 -0.043008 -0.025297     1.000000     0.525217\n",
       "AvgIntenCh2 -0.019447 -0.153303     0.525217     1.000000"
      ]
     },
     "execution_count": 19,
     "metadata": {},
     "output_type": "execute_result"
    }
   ],
   "source": [
    "correlations.iloc[:4, :4]"
   ]
  },
  {
   "cell_type": "markdown",
   "metadata": {},
   "source": [
    "### Correlation Matrix"
   ]
  },
  {
   "cell_type": "code",
   "execution_count": 20,
   "metadata": {},
   "outputs": [
    {
     "data": {
      "image/png": "[encoded data removed]",
      "text/plain": [
       "<matplotlib.figure.Figure at 0x11ad29668>"
      ]
     },
     "metadata": {},
     "output_type": "display_data"
    }
   ],
   "source": [
    "import seaborn as sns\n",
    "plt.figure(figsize=(10, 8))\n",
    "sns.heatmap(correlations, \n",
    "            xticklabels=correlations.columns.values,\n",
    "            yticklabels=correlations.columns.values);"
   ]
  },
  {
   "cell_type": "markdown",
   "metadata": {},
   "source": [
    "### FindCorrelations\n",
    "\n",
    "**NOTE** : This needs further investigation.  Although I aimed at implementing the heuristic described in section 3.5, the results are different from what's generated by the `findCorrelation` function in the `caret` package.  Looking at the caret code, I think I'm misunderstanding the meaning of \"average correlation between A and the other variables\"."
   ]
  },
  {
   "cell_type": "code",
   "execution_count": 21,
   "metadata": {},
   "outputs": [
    {
     "data": {
      "text/html": [
       "<div>\n",
       "<table border=\"1\" class=\"dataframe\">\n",
       "  <thead>\n",
       "    <tr style=\"text-align: right;\">\n",
       "      <th></th>\n",
       "      <th>featureA</th>\n",
       "      <th>featureB</th>\n",
       "      <th>corr</th>\n",
       "      <th>corr_abs</th>\n",
       "    </tr>\n",
       "  </thead>\n",
       "  <tbody>\n",
       "    <tr>\n",
       "      <th>73</th>\n",
       "      <td>AreaCh1</td>\n",
       "      <td>EqSphereAreaCh1</td>\n",
       "      <td>0.999999</td>\n",
       "      <td>0.999999</td>\n",
       "    </tr>\n",
       "    <tr>\n",
       "      <th>1219</th>\n",
       "      <td>IntenCoocEntropyCh3</td>\n",
       "      <td>IntenCoocMaxCh3</td>\n",
       "      <td>-0.990544</td>\n",
       "      <td>0.990544</td>\n",
       "    </tr>\n",
       "    <tr>\n",
       "      <th>1039</th>\n",
       "      <td>FiberLengthCh1</td>\n",
       "      <td>PerimCh1</td>\n",
       "      <td>0.985296</td>\n",
       "      <td>0.985296</td>\n",
       "    </tr>\n",
       "    <tr>\n",
       "      <th>1248</th>\n",
       "      <td>IntenCoocEntropyCh4</td>\n",
       "      <td>IntenCoocMaxCh4</td>\n",
       "      <td>-0.984572</td>\n",
       "      <td>0.984572</td>\n",
       "    </tr>\n",
       "    <tr>\n",
       "      <th>710</th>\n",
       "      <td>EqCircDiamCh1</td>\n",
       "      <td>EqSphereAreaCh1</td>\n",
       "      <td>0.976898</td>\n",
       "      <td>0.976898</td>\n",
       "    </tr>\n",
       "  </tbody>\n",
       "</table>\n",
       "</div>"
      ],
      "text/plain": [
       "                 featureA         featureB      corr  corr_abs\n",
       "73                AreaCh1  EqSphereAreaCh1  0.999999  0.999999\n",
       "1219  IntenCoocEntropyCh3  IntenCoocMaxCh3 -0.990544  0.990544\n",
       "1039       FiberLengthCh1         PerimCh1  0.985296  0.985296\n",
       "1248  IntenCoocEntropyCh4  IntenCoocMaxCh4 -0.984572  0.984572\n",
       "710         EqCircDiamCh1  EqSphereAreaCh1  0.976898  0.976898"
      ]
     },
     "execution_count": 21,
     "metadata": {},
     "output_type": "execute_result"
    }
   ],
   "source": [
    "def get_feature_correlations(correlations):    \n",
    "    # look only at the upper triangular values _above_ the main diagonal\n",
    "    mask = np.triu(np.ones(correlations.shape), k=1).astype(np.bool)\n",
    "    result = correlations.where(mask).stack().reset_index()\n",
    "    result.columns = ['featureA', 'featureB', 'corr']\n",
    "    result['corr_abs'] = np.abs(result['corr'])\n",
    "    \n",
    "    return result.sort_values(by='corr_abs', ascending=False)\n",
    "    \n",
    "feature_corr = get_feature_correlations(correlations)\n",
    "feature_corr.head()"
   ]
  },
  {
   "cell_type": "code",
   "execution_count": 22,
   "metadata": {
    "collapsed": true
   },
   "outputs": [],
   "source": [
    "def get_most_correlated(feature_corr):\n",
    "    option1 = feature_corr.iloc[0].featureA\n",
    "    option2 = feature_corr.iloc[0].featureB\n",
    "    \n",
    "    mask1 = (feature_corr.featureA == option1) | (feature_corr.featureB == option1)\n",
    "    mask2 = (feature_corr.featureA == option2) | (feature_corr.featureB == option2)\n",
    "    \n",
    "    # note - in contrast to the caret version, this re-calculates the\n",
    "    # mean by default with each iteration (without regard to number of predictors)\n",
    "    mean1 = feature_corr[mask1]['corr_abs'].mean()\n",
    "    mean2 = feature_corr[mask2]['corr_abs'].mean()\n",
    "    \n",
    "    if(mean1 >= mean2):\n",
    "        return option1\n",
    "    else:\n",
    "        return option2"
   ]
  },
  {
   "cell_type": "code",
   "execution_count": 23,
   "metadata": {},
   "outputs": [
    {
     "data": {
      "text/plain": [
       "'EqSphereAreaCh1'"
      ]
     },
     "execution_count": 23,
     "metadata": {},
     "output_type": "execute_result"
    }
   ],
   "source": [
    "get_most_correlated(feature_corr)"
   ]
  },
  {
   "cell_type": "code",
   "execution_count": 24,
   "metadata": {
    "collapsed": true
   },
   "outputs": [],
   "source": [
    "def find_correlations(x, cutoff = 0.9):\n",
    "    feature_corr = x\n",
    "    max_cor = feature_corr.iloc[0]['corr_abs']\n",
    "    to_remove = []\n",
    "    \n",
    "    while(max_cor > cutoff):\n",
    "        feature = get_most_correlated(feature_corr)\n",
    "        to_remove.append(feature)\n",
    "        mask = (feature_corr.featureA == feature) | (feature_corr.featureB == feature)\n",
    "        feature_corr = feature_corr[~mask]\n",
    "        max_cor = feature_corr.iloc[0]['corr_abs']\n",
    "        \n",
    "    return to_remove        "
   ]
  },
  {
   "cell_type": "code",
   "execution_count": 25,
   "metadata": {},
   "outputs": [
    {
     "data": {
      "text/plain": [
       "['EqSphereAreaCh1',\n",
       " 'IntenCoocEntropyCh3',\n",
       " 'FiberLengthCh1',\n",
       " 'IntenCoocEntropyCh4',\n",
       " 'EqCircDiamCh1',\n",
       " 'EqEllipseLWRCh1']"
      ]
     },
     "execution_count": 25,
     "metadata": {},
     "output_type": "execute_result"
    }
   ],
   "source": [
    "highCorr = find_correlations(feature_corr, cutoff=0.75)\n",
    "highCorr[:6]"
   ]
  },
  {
   "cell_type": "code",
   "execution_count": 26,
   "metadata": {},
   "outputs": [
    {
     "data": {
      "text/plain": [
       "30"
      ]
     },
     "execution_count": 26,
     "metadata": {},
     "output_type": "execute_result"
    }
   ],
   "source": [
    "len(highCorr)"
   ]
  },
  {
   "cell_type": "markdown",
   "metadata": {
    "collapsed": true
   },
   "source": [
    "## Creating Dummy Variables"
   ]
  },
  {
   "cell_type": "code",
   "execution_count": 27,
   "metadata": {},
   "outputs": [
    {
     "data": {
      "text/html": [
       "<div>\n",
       "<table border=\"1\" class=\"dataframe\">\n",
       "  <thead>\n",
       "    <tr style=\"text-align: right;\">\n",
       "      <th></th>\n",
       "      <th>Price</th>\n",
       "      <th>Mileage</th>\n",
       "      <th>Type</th>\n",
       "    </tr>\n",
       "  </thead>\n",
       "  <tbody>\n",
       "    <tr>\n",
       "      <th>0</th>\n",
       "      <td>22661.05</td>\n",
       "      <td>20105</td>\n",
       "      <td>sedan</td>\n",
       "    </tr>\n",
       "    <tr>\n",
       "      <th>1</th>\n",
       "      <td>21725.01</td>\n",
       "      <td>13457</td>\n",
       "      <td>coupe</td>\n",
       "    </tr>\n",
       "    <tr>\n",
       "      <th>2</th>\n",
       "      <td>29142.71</td>\n",
       "      <td>31655</td>\n",
       "      <td>convertible</td>\n",
       "    </tr>\n",
       "    <tr>\n",
       "      <th>3</th>\n",
       "      <td>30731.94</td>\n",
       "      <td>22479</td>\n",
       "      <td>convertible</td>\n",
       "    </tr>\n",
       "    <tr>\n",
       "      <th>4</th>\n",
       "      <td>33358.77</td>\n",
       "      <td>17590</td>\n",
       "      <td>convertible</td>\n",
       "    </tr>\n",
       "  </tbody>\n",
       "</table>\n",
       "</div>"
      ],
      "text/plain": [
       "      Price  Mileage         Type\n",
       "0  22661.05    20105        sedan\n",
       "1  21725.01    13457        coupe\n",
       "2  29142.71    31655  convertible\n",
       "3  30731.94    22479  convertible\n",
       "4  33358.77    17590  convertible"
      ]
     },
     "execution_count": 27,
     "metadata": {},
     "output_type": "execute_result"
    }
   ],
   "source": [
    "carSubset = pd.read_csv(DATA_PATH + \"/carSubset.csv\")\n",
    "carSubset.Type = carSubset.Type.astype('category')\n",
    "carSubset.head()"
   ]
  },
  {
   "cell_type": "code",
   "execution_count": 28,
   "metadata": {},
   "outputs": [
    {
     "data": {
      "text/plain": [
       "[sedan, coupe, convertible, wagon, hatchback]\n",
       "Categories (5, object): [sedan, coupe, convertible, wagon, hatchback]"
      ]
     },
     "execution_count": 28,
     "metadata": {},
     "output_type": "execute_result"
    }
   ],
   "source": [
    "carSubset.Type.unique()"
   ]
  },
  {
   "cell_type": "code",
   "execution_count": 29,
   "metadata": {},
   "outputs": [
    {
     "data": {
      "text/html": [
       "<div>\n",
       "<table border=\"1\" class=\"dataframe\">\n",
       "  <thead>\n",
       "    <tr style=\"text-align: right;\">\n",
       "      <th></th>\n",
       "      <th>Price</th>\n",
       "      <th>Mileage</th>\n",
       "      <th>convertible</th>\n",
       "      <th>coupe</th>\n",
       "      <th>hatchback</th>\n",
       "      <th>sedan</th>\n",
       "      <th>wagon</th>\n",
       "    </tr>\n",
       "  </thead>\n",
       "  <tbody>\n",
       "    <tr>\n",
       "      <th>0</th>\n",
       "      <td>22661.05</td>\n",
       "      <td>20105</td>\n",
       "      <td>0</td>\n",
       "      <td>0</td>\n",
       "      <td>0</td>\n",
       "      <td>1</td>\n",
       "      <td>0</td>\n",
       "    </tr>\n",
       "    <tr>\n",
       "      <th>1</th>\n",
       "      <td>21725.01</td>\n",
       "      <td>13457</td>\n",
       "      <td>0</td>\n",
       "      <td>1</td>\n",
       "      <td>0</td>\n",
       "      <td>0</td>\n",
       "      <td>0</td>\n",
       "    </tr>\n",
       "    <tr>\n",
       "      <th>2</th>\n",
       "      <td>29142.71</td>\n",
       "      <td>31655</td>\n",
       "      <td>1</td>\n",
       "      <td>0</td>\n",
       "      <td>0</td>\n",
       "      <td>0</td>\n",
       "      <td>0</td>\n",
       "    </tr>\n",
       "    <tr>\n",
       "      <th>3</th>\n",
       "      <td>30731.94</td>\n",
       "      <td>22479</td>\n",
       "      <td>1</td>\n",
       "      <td>0</td>\n",
       "      <td>0</td>\n",
       "      <td>0</td>\n",
       "      <td>0</td>\n",
       "    </tr>\n",
       "    <tr>\n",
       "      <th>4</th>\n",
       "      <td>33358.77</td>\n",
       "      <td>17590</td>\n",
       "      <td>1</td>\n",
       "      <td>0</td>\n",
       "      <td>0</td>\n",
       "      <td>0</td>\n",
       "      <td>0</td>\n",
       "    </tr>\n",
       "  </tbody>\n",
       "</table>\n",
       "</div>"
      ],
      "text/plain": [
       "      Price  Mileage  convertible  coupe  hatchback  sedan  wagon\n",
       "0  22661.05    20105            0      0          0      1      0\n",
       "1  21725.01    13457            0      1          0      0      0\n",
       "2  29142.71    31655            1      0          0      0      0\n",
       "3  30731.94    22479            1      0          0      0      0\n",
       "4  33358.77    17590            1      0          0      0      0"
      ]
     },
     "execution_count": 29,
     "metadata": {},
     "output_type": "execute_result"
    }
   ],
   "source": [
    "carSubset = pd.get_dummies(carSubset, columns=['Type'], prefix=[None]) #, drop_first=True, prefix='type')\n",
    "carSubset.head()"
   ]
  },
  {
   "cell_type": "markdown",
   "metadata": {
    "collapsed": true
   },
   "source": [
    "### Formula spec for Dummy Variables [Future]"
   ]
  },
  {
   "cell_type": "markdown",
   "metadata": {
    "collapsed": true
   },
   "source": [
    "### Dummy Variable Interaction (via Formulae) [Future]"
   ]
  }
 ],
 "metadata": {
  "kernelspec": {
   "display_name": "Python 3",
   "language": "python",
   "name": "python3"
  },
  "language_info": {
   "codemirror_mode": {
    "name": "ipython",
    "version": 3
   },
   "file_extension": ".py",
   "mimetype": "text/x-python",
   "name": "python",
   "nbconvert_exporter": "python",
   "pygments_lexer": "ipython3",
   "version": "3.5.2"
  }
 },
 "nbformat": 4,
 "nbformat_minor": 2
}
