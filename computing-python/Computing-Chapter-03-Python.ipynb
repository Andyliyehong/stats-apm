{
 "cells": [
  {
   "cell_type": "markdown",
   "metadata": {},
   "source": [
    "# Computing - Chapter 03 - (Python)"
   ]
  },
  {
   "cell_type": "code",
   "execution_count": 1,
   "metadata": {
    "collapsed": true
   },
   "outputs": [],
   "source": [
    "import numpy as np\n",
    "import pandas as pd\n",
    "from pandas import DataFrame,Series"
   ]
  },
  {
   "cell_type": "code",
   "execution_count": 2,
   "metadata": {
    "collapsed": true
   },
   "outputs": [],
   "source": [
    "import matplotlib.pyplot as plt\n",
    "%matplotlib inline"
   ]
  },
  {
   "cell_type": "code",
   "execution_count": 3,
   "metadata": {},
   "outputs": [
    {
     "data": {
      "text/html": [
       "<div>\n",
       "<table border=\"1\" class=\"dataframe\">\n",
       "  <thead>\n",
       "    <tr style=\"text-align: right;\">\n",
       "      <th></th>\n",
       "      <th>Cell</th>\n",
       "      <th>Case</th>\n",
       "      <th>Class</th>\n",
       "      <th>AngleCh1</th>\n",
       "      <th>AngleStatusCh1</th>\n",
       "      <th>AreaCh1</th>\n",
       "      <th>AreaStatusCh1</th>\n",
       "      <th>AvgIntenCh1</th>\n",
       "      <th>AvgIntenCh2</th>\n",
       "      <th>AvgIntenCh3</th>\n",
       "      <th>...</th>\n",
       "      <th>VarIntenCh1</th>\n",
       "      <th>VarIntenCh3</th>\n",
       "      <th>VarIntenCh4</th>\n",
       "      <th>VarIntenStatusCh1</th>\n",
       "      <th>VarIntenStatusCh3</th>\n",
       "      <th>VarIntenStatusCh4</th>\n",
       "      <th>WidthCh1</th>\n",
       "      <th>WidthStatusCh1</th>\n",
       "      <th>XCentroid</th>\n",
       "      <th>YCentroid</th>\n",
       "    </tr>\n",
       "  </thead>\n",
       "  <tbody>\n",
       "    <tr>\n",
       "      <th>0</th>\n",
       "      <td>207827637</td>\n",
       "      <td>Test</td>\n",
       "      <td>PS</td>\n",
       "      <td>143.247705</td>\n",
       "      <td>1</td>\n",
       "      <td>185</td>\n",
       "      <td>0</td>\n",
       "      <td>15.711864</td>\n",
       "      <td>3.954802</td>\n",
       "      <td>9.548023</td>\n",
       "      <td>...</td>\n",
       "      <td>12.474676</td>\n",
       "      <td>7.609035</td>\n",
       "      <td>2.714100</td>\n",
       "      <td>0</td>\n",
       "      <td>2</td>\n",
       "      <td>2</td>\n",
       "      <td>10.642974</td>\n",
       "      <td>2</td>\n",
       "      <td>42</td>\n",
       "      <td>14</td>\n",
       "    </tr>\n",
       "    <tr>\n",
       "      <th>1</th>\n",
       "      <td>207932307</td>\n",
       "      <td>Train</td>\n",
       "      <td>PS</td>\n",
       "      <td>133.752037</td>\n",
       "      <td>0</td>\n",
       "      <td>819</td>\n",
       "      <td>1</td>\n",
       "      <td>31.923274</td>\n",
       "      <td>205.878517</td>\n",
       "      <td>69.916880</td>\n",
       "      <td>...</td>\n",
       "      <td>18.809225</td>\n",
       "      <td>56.715352</td>\n",
       "      <td>118.388139</td>\n",
       "      <td>0</td>\n",
       "      <td>0</td>\n",
       "      <td>0</td>\n",
       "      <td>32.161261</td>\n",
       "      <td>1</td>\n",
       "      <td>215</td>\n",
       "      <td>347</td>\n",
       "    </tr>\n",
       "    <tr>\n",
       "      <th>2</th>\n",
       "      <td>207932463</td>\n",
       "      <td>Train</td>\n",
       "      <td>WS</td>\n",
       "      <td>106.646387</td>\n",
       "      <td>0</td>\n",
       "      <td>431</td>\n",
       "      <td>0</td>\n",
       "      <td>28.038835</td>\n",
       "      <td>115.315534</td>\n",
       "      <td>63.941748</td>\n",
       "      <td>...</td>\n",
       "      <td>17.295643</td>\n",
       "      <td>37.671053</td>\n",
       "      <td>49.470524</td>\n",
       "      <td>0</td>\n",
       "      <td>0</td>\n",
       "      <td>0</td>\n",
       "      <td>21.185525</td>\n",
       "      <td>0</td>\n",
       "      <td>371</td>\n",
       "      <td>252</td>\n",
       "    </tr>\n",
       "    <tr>\n",
       "      <th>3</th>\n",
       "      <td>207932470</td>\n",
       "      <td>Train</td>\n",
       "      <td>PS</td>\n",
       "      <td>69.150325</td>\n",
       "      <td>0</td>\n",
       "      <td>298</td>\n",
       "      <td>0</td>\n",
       "      <td>19.456140</td>\n",
       "      <td>101.294737</td>\n",
       "      <td>28.217544</td>\n",
       "      <td>...</td>\n",
       "      <td>13.818968</td>\n",
       "      <td>30.005643</td>\n",
       "      <td>24.749537</td>\n",
       "      <td>0</td>\n",
       "      <td>0</td>\n",
       "      <td>2</td>\n",
       "      <td>13.392830</td>\n",
       "      <td>0</td>\n",
       "      <td>487</td>\n",
       "      <td>295</td>\n",
       "    </tr>\n",
       "    <tr>\n",
       "      <th>4</th>\n",
       "      <td>207932455</td>\n",
       "      <td>Test</td>\n",
       "      <td>PS</td>\n",
       "      <td>2.887837</td>\n",
       "      <td>2</td>\n",
       "      <td>285</td>\n",
       "      <td>0</td>\n",
       "      <td>24.275735</td>\n",
       "      <td>111.415441</td>\n",
       "      <td>20.474265</td>\n",
       "      <td>...</td>\n",
       "      <td>15.407972</td>\n",
       "      <td>20.504288</td>\n",
       "      <td>45.450457</td>\n",
       "      <td>0</td>\n",
       "      <td>0</td>\n",
       "      <td>0</td>\n",
       "      <td>13.198561</td>\n",
       "      <td>0</td>\n",
       "      <td>283</td>\n",
       "      <td>159</td>\n",
       "    </tr>\n",
       "  </tbody>\n",
       "</table>\n",
       "<p>5 rows × 119 columns</p>\n",
       "</div>"
      ],
      "text/plain": [
       "        Cell   Case Class    AngleCh1  AngleStatusCh1  AreaCh1  AreaStatusCh1  \\\n",
       "0  207827637   Test    PS  143.247705               1      185              0   \n",
       "1  207932307  Train    PS  133.752037               0      819              1   \n",
       "2  207932463  Train    WS  106.646387               0      431              0   \n",
       "3  207932470  Train    PS   69.150325               0      298              0   \n",
       "4  207932455   Test    PS    2.887837               2      285              0   \n",
       "\n",
       "   AvgIntenCh1  AvgIntenCh2  AvgIntenCh3    ...      VarIntenCh1  VarIntenCh3  \\\n",
       "0    15.711864     3.954802     9.548023    ...        12.474676     7.609035   \n",
       "1    31.923274   205.878517    69.916880    ...        18.809225    56.715352   \n",
       "2    28.038835   115.315534    63.941748    ...        17.295643    37.671053   \n",
       "3    19.456140   101.294737    28.217544    ...        13.818968    30.005643   \n",
       "4    24.275735   111.415441    20.474265    ...        15.407972    20.504288   \n",
       "\n",
       "   VarIntenCh4  VarIntenStatusCh1  VarIntenStatusCh3  VarIntenStatusCh4  \\\n",
       "0     2.714100                  0                  2                  2   \n",
       "1   118.388139                  0                  0                  0   \n",
       "2    49.470524                  0                  0                  0   \n",
       "3    24.749537                  0                  0                  2   \n",
       "4    45.450457                  0                  0                  0   \n",
       "\n",
       "    WidthCh1  WidthStatusCh1  XCentroid  YCentroid  \n",
       "0  10.642974               2         42         14  \n",
       "1  32.161261               1        215        347  \n",
       "2  21.185525               0        371        252  \n",
       "3  13.392830               0        487        295  \n",
       "4  13.198561               0        283        159  \n",
       "\n",
       "[5 rows x 119 columns]"
      ]
     },
     "execution_count": 3,
     "metadata": {},
     "output_type": "execute_result"
    }
   ],
   "source": [
    "# load the data from a file\n",
    "DATA_PATH = \"../data\"\n",
    "segDataRaw = pd.read_csv(DATA_PATH + \"/segmentationOriginal.csv\")\n",
    "segDataRaw.head()"
   ]
  },
  {
   "cell_type": "code",
   "execution_count": 4,
   "metadata": {
    "collapsed": true
   },
   "outputs": [],
   "source": [
    "# isolate just the training examples\n",
    "segData = segDataRaw[segDataRaw.Case == \"Train\"]"
   ]
  },
  {
   "cell_type": "code",
   "execution_count": 5,
   "metadata": {
    "collapsed": true
   },
   "outputs": [],
   "source": [
    "# pull out some of the columns\n",
    "cellId = segData.Cell\n",
    "cellClass = segData['Class']\n",
    "case = segData.Case"
   ]
  },
  {
   "cell_type": "code",
   "execution_count": 6,
   "metadata": {
    "collapsed": true
   },
   "outputs": [],
   "source": [
    "# now remove the columns\n",
    "segData = segData.drop(['Cell', 'Class', 'Case'], axis=1)"
   ]
  },
  {
   "cell_type": "code",
   "execution_count": 7,
   "metadata": {
    "collapsed": true
   },
   "outputs": [],
   "source": [
    "# remove all \"Status\" columns\n",
    "segData = segData.drop([c for c in segData.columns if \"Status\" in c], axis=1)"
   ]
  },
  {
   "cell_type": "markdown",
   "metadata": {},
   "source": [
    "## Transformations"
   ]
  },
  {
   "cell_type": "markdown",
   "metadata": {},
   "source": [
    "### Skewness"
   ]
  },
  {
   "cell_type": "code",
   "execution_count": 8,
   "metadata": {},
   "outputs": [
    {
     "data": {
      "text/plain": [
       "-0.024298630435426738"
      ]
     },
     "execution_count": 8,
     "metadata": {},
     "output_type": "execute_result"
    }
   ],
   "source": [
    "# for one predictor\n",
    "from scipy.stats import skew\n",
    "skew(segData.AngleCh1)"
   ]
  },
  {
   "cell_type": "code",
   "execution_count": 9,
   "metadata": {},
   "outputs": [
    {
     "name": "stdout",
     "output_type": "stream",
     "text": [
      "('AngleCh1', -0.024298630435426738)\n",
      "('AreaCh1', 3.5303544460710095)\n",
      "('AvgIntenCh1', 2.9635898861967189)\n",
      "('AvgIntenCh2', 0.84942278590563092)\n",
      "('AvgIntenCh3', 2.2056202512609824)\n"
     ]
    }
   ],
   "source": [
    "# apply across all columns\n",
    "skewValues = segData.apply(skew, axis=0)\n",
    "[print(x) for x in list(zip(segData.columns, skewValues))[0:5]];"
   ]
  },
  {
   "cell_type": "markdown",
   "metadata": {},
   "source": [
    "### Box Cox Transformation"
   ]
  },
  {
   "cell_type": "code",
   "execution_count": 10,
   "metadata": {},
   "outputs": [
    {
     "name": "stdout",
     "output_type": "stream",
     "text": [
      "count    1009.000000\n",
      "mean      325.125867\n",
      "std       216.555276\n",
      "min       150.000000\n",
      "25%       194.000000\n",
      "50%       256.000000\n",
      "75%       376.000000\n",
      "max      2186.000000\n",
      "Name: AreaCh1, dtype: float64\n",
      "Largest/Smallest: 14.6\n",
      "Sample Skewness: 3.54\n",
      "Estimated Lambda: -0.855869\n",
      "example transformed values: [ 1.16465199  1.16190479  1.15949121  1.15825373  1.15832111] ...\n"
     ]
    }
   ],
   "source": [
    "# find the appropriate box cox transform and apply to values\n",
    "from scipy.stats import boxcox\n",
    "\n",
    "(boxCoxTrans, lmbda) = boxcox(segData.AreaCh1)\n",
    "print(segData.AreaCh1.describe())\n",
    "print('Largest/Smallest: %.1f' % (segData.AreaCh1.max()/segData.AreaCh1.min()))\n",
    "print('Sample Skewness: %.2f' % (segData.AreaCh1.skew(),))\n",
    "\n",
    "print('Estimated Lambda: %f' % (lmbda,))\n",
    "print('example transformed values: %s ...' % boxCoxTrans[0:5])"
   ]
  },
  {
   "cell_type": "code",
   "execution_count": 11,
   "metadata": {},
   "outputs": [
    {
     "data": {
      "text/plain": [
       "1     819\n",
       "2     431\n",
       "3     298\n",
       "11    256\n",
       "14    258\n",
       "Name: AreaCh1, dtype: int64"
      ]
     },
     "execution_count": 11,
     "metadata": {},
     "output_type": "execute_result"
    }
   ],
   "source": [
    "# for comparison, perform the manual transformation using the lambda value generated above\n",
    "segData.AreaCh1.head()"
   ]
  },
  {
   "cell_type": "code",
   "execution_count": 12,
   "metadata": {},
   "outputs": [
    {
     "name": "stdout",
     "output_type": "stream",
     "text": [
      "Automatically generated transformation: 1.164652\n",
      "Manually generated transformation: 1.164652\n"
     ]
    }
   ],
   "source": [
    "import math\n",
    "\n",
    "print(\"Automatically generated transformation: %f\" % boxCoxTrans[0])\n",
    "manuallyGenerated = (math.pow(segData.AreaCh1[1], lmbda) - 1) / lmbda\n",
    "print(\"Manually generated transformation: %f\" % manuallyGenerated)"
   ]
  },
  {
   "cell_type": "markdown",
   "metadata": {},
   "source": [
    "### Scaling"
   ]
  },
  {
   "cell_type": "code",
   "execution_count": 13,
   "metadata": {},
   "outputs": [
    {
     "name": "stdout",
     "output_type": "stream",
     "text": [
      "[  91.12640825  325.1258672   127.91502974  185.19067407   96.12916894]\n",
      "[  48.88765639  216.44793745  163.93228319  153.91029071   93.48906669]\n"
     ]
    }
   ],
   "source": [
    "import sklearn.preprocessing\n",
    "\n",
    "scaler = sklearn.preprocessing.StandardScaler().fit(segData)\n",
    "\n",
    "print(scaler.mean_[0:5])\n",
    "print(scaler.scale_[0:5])\n",
    "\n",
    "scaledData = scaler.transform(segData)\n",
    "\n",
    "# TODO: zip columns, scaler mean/std, pd mean/std"
   ]
  },
  {
   "cell_type": "markdown",
   "metadata": {},
   "source": [
    "### PCA"
   ]
  },
  {
   "cell_type": "code",
   "execution_count": 14,
   "metadata": {},
   "outputs": [
    {
     "data": {
      "text/plain": [
       "[20.91235927892339, 17.013300362584811, 11.886891590935015]"
      ]
     },
     "execution_count": 14,
     "metadata": {},
     "output_type": "execute_result"
    }
   ],
   "source": [
    "from sklearn.decomposition import PCA\n",
    "\n",
    "pca = PCA()\n",
    "pcaObject = pca.fit(scaledData)\n",
    "percentVariance = [pctVariance * 100 for pctVariance in pcaObject.explained_variance_ratio_]\n",
    "percentVariance[0:3]"
   ]
  },
  {
   "cell_type": "code",
   "execution_count": 15,
   "metadata": {},
   "outputs": [
    {
     "data": {
      "text/html": [
       "<div>\n",
       "<table border=\"1\" class=\"dataframe\">\n",
       "  <thead>\n",
       "    <tr style=\"text-align: right;\">\n",
       "      <th></th>\n",
       "      <th>PC1</th>\n",
       "      <th>PC2</th>\n",
       "      <th>PC3</th>\n",
       "      <th>PC4</th>\n",
       "      <th>PC5</th>\n",
       "    </tr>\n",
       "  </thead>\n",
       "  <tbody>\n",
       "    <tr>\n",
       "      <th>0</th>\n",
       "      <td>5.101103</td>\n",
       "      <td>4.553637</td>\n",
       "      <td>-0.033468</td>\n",
       "      <td>-2.641648</td>\n",
       "      <td>1.278955</td>\n",
       "    </tr>\n",
       "    <tr>\n",
       "      <th>1</th>\n",
       "      <td>-0.254752</td>\n",
       "      <td>1.198627</td>\n",
       "      <td>-1.021102</td>\n",
       "      <td>-3.732929</td>\n",
       "      <td>0.999959</td>\n",
       "    </tr>\n",
       "    <tr>\n",
       "      <th>2</th>\n",
       "      <td>1.293535</td>\n",
       "      <td>-1.864859</td>\n",
       "      <td>-1.251725</td>\n",
       "      <td>-2.416054</td>\n",
       "      <td>-1.492223</td>\n",
       "    </tr>\n",
       "    <tr>\n",
       "      <th>3</th>\n",
       "      <td>-1.465388</td>\n",
       "      <td>-1.566609</td>\n",
       "      <td>0.469854</td>\n",
       "      <td>-3.390396</td>\n",
       "      <td>-0.330396</td>\n",
       "    </tr>\n",
       "    <tr>\n",
       "      <th>4</th>\n",
       "      <td>-0.876712</td>\n",
       "      <td>-1.279640</td>\n",
       "      <td>-1.338606</td>\n",
       "      <td>-3.518538</td>\n",
       "      <td>0.393805</td>\n",
       "    </tr>\n",
       "  </tbody>\n",
       "</table>\n",
       "</div>"
      ],
      "text/plain": [
       "        PC1       PC2       PC3       PC4       PC5\n",
       "0  5.101103  4.553637 -0.033468 -2.641648  1.278955\n",
       "1 -0.254752  1.198627 -1.021102 -3.732929  0.999959\n",
       "2  1.293535 -1.864859 -1.251725 -2.416054 -1.492223\n",
       "3 -1.465388 -1.566609  0.469854 -3.390396 -0.330396\n",
       "4 -0.876712 -1.279640 -1.338606 -3.518538  0.393805"
      ]
     },
     "execution_count": 15,
     "metadata": {},
     "output_type": "execute_result"
    }
   ],
   "source": [
    "pcaTransform = DataFrame(pca.transform(scaledData)).iloc[0:5, 0:5]\n",
    "pcaTransform.columns = [\"PC1\", \"PC2\", \"PC3\", \"PC4\", \"PC5\"]\n",
    "pcaTransform"
   ]
  },
  {
   "cell_type": "code",
   "execution_count": 16,
   "metadata": {},
   "outputs": [
    {
     "data": {
      "text/html": [
       "<div>\n",
       "<table border=\"1\" class=\"dataframe\">\n",
       "  <thead>\n",
       "    <tr style=\"text-align: right;\">\n",
       "      <th></th>\n",
       "      <th>PC1</th>\n",
       "      <th>PC2</th>\n",
       "      <th>PC3</th>\n",
       "      <th>PC4</th>\n",
       "      <th>PC5</th>\n",
       "    </tr>\n",
       "  </thead>\n",
       "  <tbody>\n",
       "    <tr>\n",
       "      <th>AngleCh1</th>\n",
       "      <td>0.001214</td>\n",
       "      <td>-0.012845</td>\n",
       "      <td>0.006816</td>\n",
       "      <td>-0.027557</td>\n",
       "      <td>0.025237</td>\n",
       "    </tr>\n",
       "    <tr>\n",
       "      <th>AreaCh1</th>\n",
       "      <td>0.229172</td>\n",
       "      <td>0.160617</td>\n",
       "      <td>0.089812</td>\n",
       "      <td>-0.055231</td>\n",
       "      <td>0.052735</td>\n",
       "    </tr>\n",
       "    <tr>\n",
       "      <th>AvgIntenCh1</th>\n",
       "      <td>-0.102709</td>\n",
       "      <td>0.179713</td>\n",
       "      <td>0.067697</td>\n",
       "      <td>0.186756</td>\n",
       "      <td>0.024012</td>\n",
       "    </tr>\n",
       "    <tr>\n",
       "      <th>AvgIntenCh2</th>\n",
       "      <td>-0.154829</td>\n",
       "      <td>0.163760</td>\n",
       "      <td>0.073534</td>\n",
       "      <td>0.041458</td>\n",
       "      <td>0.078392</td>\n",
       "    </tr>\n",
       "    <tr>\n",
       "      <th>AvgIntenCh3</th>\n",
       "      <td>-0.058042</td>\n",
       "      <td>0.111977</td>\n",
       "      <td>-0.185473</td>\n",
       "      <td>0.282913</td>\n",
       "      <td>-0.078224</td>\n",
       "    </tr>\n",
       "    <tr>\n",
       "      <th>AvgIntenCh4</th>\n",
       "      <td>-0.117343</td>\n",
       "      <td>0.210391</td>\n",
       "      <td>-0.105061</td>\n",
       "      <td>0.011164</td>\n",
       "      <td>0.049905</td>\n",
       "    </tr>\n",
       "  </tbody>\n",
       "</table>\n",
       "</div>"
      ],
      "text/plain": [
       "                  PC1       PC2       PC3       PC4       PC5\n",
       "AngleCh1     0.001214 -0.012845  0.006816 -0.027557  0.025237\n",
       "AreaCh1      0.229172  0.160617  0.089812 -0.055231  0.052735\n",
       "AvgIntenCh1 -0.102709  0.179713  0.067697  0.186756  0.024012\n",
       "AvgIntenCh2 -0.154829  0.163760  0.073534  0.041458  0.078392\n",
       "AvgIntenCh3 -0.058042  0.111977 -0.185473  0.282913 -0.078224\n",
       "AvgIntenCh4 -0.117343  0.210391 -0.105061  0.011164  0.049905"
      ]
     },
     "execution_count": 16,
     "metadata": {},
     "output_type": "execute_result"
    }
   ],
   "source": [
    "pcaComponents = DataFrame(pcaObject.components_.T).iloc[0:6, 0:5]\n",
    "pcaComponents.columns = [\"PC1\", \"PC2\", \"PC3\", \"PC4\", \"PC5\"]\n",
    "pcaComponents.set_index(segData.columns[0:6])"
   ]
  },
  {
   "cell_type": "markdown",
   "metadata": {},
   "source": [
    "### Spatial Sign\n",
    "\n",
    "See ... (**TODO**)"
   ]
  },
  {
   "cell_type": "markdown",
   "metadata": {
    "collapsed": true
   },
   "source": [
    "### Impute via KNN\n",
    "\n",
    "**TODO**"
   ]
  },
  {
   "cell_type": "markdown",
   "metadata": {},
   "source": [
    "## Filtering"
   ]
  },
  {
   "cell_type": "markdown",
   "metadata": {},
   "source": [
    "### Near-zero Variance Features"
   ]
  },
  {
   "cell_type": "code",
   "execution_count": 48,
   "metadata": {},
   "outputs": [
    {
     "data": {
      "text/plain": [
       "array([ True,  True,  True,  True,  True,  True,  True,  True,  True,\n",
       "        True,  True,  True,  True,  True,  True,  True,  True,  True,\n",
       "        True,  True,  True,  True,  True,  True,  True,  True,  True,\n",
       "        True,  True,  True,  True,  True,  True,  True,  True,  True,\n",
       "        True,  True,  True,  True,  True,  True,  True,  True,  True,\n",
       "        True,  True,  True,  True,  True,  True,  True,  True,  True,\n",
       "        True,  True,  True,  True], dtype=bool)"
      ]
     },
     "execution_count": 48,
     "metadata": {},
     "output_type": "execute_result"
    }
   ],
   "source": [
    "# identify any predictors that are low variance (e.g. unique value across all entries, etc.) as potentials for removal\n",
    "from sklearn.feature_selection import VarianceThreshold\n",
    "\n",
    "selector = VarianceThreshold()\n",
    "selection = selector.fit(segData)\n",
    "\n",
    "# for our segmentation data, none of the predictors fit the conditions\n",
    "selection.get_support()\n",
    "\n",
    "# if there were any near-zero variance predictors, we could remove them using the\n",
    "# results as a column 'mask'\n",
    "# segData = segData.iloc[:, selection.get_support()]"
   ]
  },
  {
   "cell_type": "markdown",
   "metadata": {},
   "source": [
    "### Between-predictor correlations"
   ]
  },
  {
   "cell_type": "code",
   "execution_count": 35,
   "metadata": {},
   "outputs": [
    {
     "data": {
      "text/plain": [
       "(58, 58)"
      ]
     },
     "execution_count": 35,
     "metadata": {},
     "output_type": "execute_result"
    }
   ],
   "source": [
    "correlations = segData.corr()\n",
    "correlations.shape"
   ]
  },
  {
   "cell_type": "code",
   "execution_count": 36,
   "metadata": {},
   "outputs": [
    {
     "data": {
      "text/html": [
       "<div>\n",
       "<table border=\"1\" class=\"dataframe\">\n",
       "  <thead>\n",
       "    <tr style=\"text-align: right;\">\n",
       "      <th></th>\n",
       "      <th>AngleCh1</th>\n",
       "      <th>AreaCh1</th>\n",
       "      <th>AvgIntenCh1</th>\n",
       "      <th>AvgIntenCh2</th>\n",
       "    </tr>\n",
       "  </thead>\n",
       "  <tbody>\n",
       "    <tr>\n",
       "      <th>AngleCh1</th>\n",
       "      <td>1.000000</td>\n",
       "      <td>-0.002627</td>\n",
       "      <td>-0.043008</td>\n",
       "      <td>-0.019447</td>\n",
       "    </tr>\n",
       "    <tr>\n",
       "      <th>AreaCh1</th>\n",
       "      <td>-0.002627</td>\n",
       "      <td>1.000000</td>\n",
       "      <td>-0.025297</td>\n",
       "      <td>-0.153303</td>\n",
       "    </tr>\n",
       "    <tr>\n",
       "      <th>AvgIntenCh1</th>\n",
       "      <td>-0.043008</td>\n",
       "      <td>-0.025297</td>\n",
       "      <td>1.000000</td>\n",
       "      <td>0.525217</td>\n",
       "    </tr>\n",
       "    <tr>\n",
       "      <th>AvgIntenCh2</th>\n",
       "      <td>-0.019447</td>\n",
       "      <td>-0.153303</td>\n",
       "      <td>0.525217</td>\n",
       "      <td>1.000000</td>\n",
       "    </tr>\n",
       "  </tbody>\n",
       "</table>\n",
       "</div>"
      ],
      "text/plain": [
       "             AngleCh1   AreaCh1  AvgIntenCh1  AvgIntenCh2\n",
       "AngleCh1     1.000000 -0.002627    -0.043008    -0.019447\n",
       "AreaCh1     -0.002627  1.000000    -0.025297    -0.153303\n",
       "AvgIntenCh1 -0.043008 -0.025297     1.000000     0.525217\n",
       "AvgIntenCh2 -0.019447 -0.153303     0.525217     1.000000"
      ]
     },
     "execution_count": 36,
     "metadata": {},
     "output_type": "execute_result"
    }
   ],
   "source": [
    "correlations.iloc[:4, :4]"
   ]
  },
  {
   "cell_type": "markdown",
   "metadata": {},
   "source": [
    "### Correlation Matrix"
   ]
  },
  {
   "cell_type": "code",
   "execution_count": 46,
   "metadata": {},
   "outputs": [
    {
     "data": {
      "image/png": "[encoded data removed]",
      "text/plain": [
       "<matplotlib.figure.Figure at 0x121c8ef98>"
      ]
     },
     "metadata": {},
     "output_type": "display_data"
    }
   ],
   "source": [
    "import seaborn as sns\n",
    "plt.figure(figsize=(10, 8))\n",
    "sns.heatmap(correlations, \n",
    "            xticklabels=correlations.columns.values,\n",
    "            yticklabels=correlations.columns.values);"
   ]
  },
  {
   "cell_type": "markdown",
   "metadata": {},
   "source": [
    "### FindCorrelations"
   ]
  },
  {
   "cell_type": "code",
   "execution_count": 60,
   "metadata": {},
   "outputs": [
    {
     "data": {
      "text/html": [
       "<div>\n",
       "<table border=\"1\" class=\"dataframe\">\n",
       "  <thead>\n",
       "    <tr style=\"text-align: right;\">\n",
       "      <th></th>\n",
       "      <th>index</th>\n",
       "      <th>variable</th>\n",
       "      <th>value</th>\n",
       "    </tr>\n",
       "  </thead>\n",
       "  <tbody>\n",
       "    <tr>\n",
       "      <th>1654</th>\n",
       "      <td>IntenCoocMaxCh3</td>\n",
       "      <td>IntenCoocEntropyCh3</td>\n",
       "      <td>-0.990544</td>\n",
       "    </tr>\n",
       "    <tr>\n",
       "      <th>1768</th>\n",
       "      <td>IntenCoocEntropyCh3</td>\n",
       "      <td>IntenCoocMaxCh3</td>\n",
       "      <td>-0.990544</td>\n",
       "    </tr>\n",
       "    <tr>\n",
       "      <th>1713</th>\n",
       "      <td>IntenCoocMaxCh4</td>\n",
       "      <td>IntenCoocEntropyCh4</td>\n",
       "      <td>-0.984572</td>\n",
       "    </tr>\n",
       "    <tr>\n",
       "      <th>1827</th>\n",
       "      <td>IntenCoocEntropyCh4</td>\n",
       "      <td>IntenCoocMaxCh4</td>\n",
       "      <td>-0.984572</td>\n",
       "    </tr>\n",
       "    <tr>\n",
       "      <th>1648</th>\n",
       "      <td>IntenCoocASMCh3</td>\n",
       "      <td>IntenCoocEntropyCh3</td>\n",
       "      <td>-0.945202</td>\n",
       "    </tr>\n",
       "    <tr>\n",
       "      <th>1420</th>\n",
       "      <td>IntenCoocEntropyCh3</td>\n",
       "      <td>IntenCoocASMCh3</td>\n",
       "      <td>-0.945202</td>\n",
       "    </tr>\n",
       "    <tr>\n",
       "      <th>1707</th>\n",
       "      <td>IntenCoocASMCh4</td>\n",
       "      <td>IntenCoocEntropyCh4</td>\n",
       "      <td>-0.944684</td>\n",
       "    </tr>\n",
       "    <tr>\n",
       "      <th>1479</th>\n",
       "      <td>IntenCoocEntropyCh4</td>\n",
       "      <td>IntenCoocASMCh4</td>\n",
       "      <td>-0.944684</td>\n",
       "    </tr>\n",
       "    <tr>\n",
       "      <th>726</th>\n",
       "      <td>IntenCoocMaxCh3</td>\n",
       "      <td>EntropyIntenCh3</td>\n",
       "      <td>-0.922840</td>\n",
       "    </tr>\n",
       "    <tr>\n",
       "      <th>1752</th>\n",
       "      <td>EntropyIntenCh3</td>\n",
       "      <td>IntenCoocMaxCh3</td>\n",
       "      <td>-0.922840</td>\n",
       "    </tr>\n",
       "    <tr>\n",
       "      <th>1404</th>\n",
       "      <td>EntropyIntenCh3</td>\n",
       "      <td>IntenCoocASMCh3</td>\n",
       "      <td>-0.893034</td>\n",
       "    </tr>\n",
       "    <tr>\n",
       "      <th>720</th>\n",
       "      <td>IntenCoocASMCh3</td>\n",
       "      <td>EntropyIntenCh3</td>\n",
       "      <td>-0.893034</td>\n",
       "    </tr>\n",
       "    <tr>\n",
       "      <th>1811</th>\n",
       "      <td>EntropyIntenCh4</td>\n",
       "      <td>IntenCoocMaxCh4</td>\n",
       "      <td>-0.859285</td>\n",
       "    </tr>\n",
       "    <tr>\n",
       "      <th>785</th>\n",
       "      <td>IntenCoocMaxCh4</td>\n",
       "      <td>EntropyIntenCh4</td>\n",
       "      <td>-0.859285</td>\n",
       "    </tr>\n",
       "    <tr>\n",
       "      <th>388</th>\n",
       "      <td>ShapeBFRCh1</td>\n",
       "      <td>ConvexHullAreaRatioCh1</td>\n",
       "      <td>-0.825531</td>\n",
       "    </tr>\n",
       "    <tr>\n",
       "      <th>2326</th>\n",
       "      <td>ConvexHullAreaRatioCh1</td>\n",
       "      <td>ShapeBFRCh1</td>\n",
       "      <td>-0.825531</td>\n",
       "    </tr>\n",
       "    <tr>\n",
       "      <th>1463</th>\n",
       "      <td>EntropyIntenCh4</td>\n",
       "      <td>IntenCoocASMCh4</td>\n",
       "      <td>-0.822126</td>\n",
       "    </tr>\n",
       "    <tr>\n",
       "      <th>779</th>\n",
       "      <td>IntenCoocASMCh4</td>\n",
       "      <td>EntropyIntenCh4</td>\n",
       "      <td>-0.822126</td>\n",
       "    </tr>\n",
       "    <tr>\n",
       "      <th>1283</th>\n",
       "      <td>ConvexHullPerimRatioCh1</td>\n",
       "      <td>FiberLengthCh1</td>\n",
       "      <td>-0.796776</td>\n",
       "    </tr>\n",
       "    <tr>\n",
       "      <th>428</th>\n",
       "      <td>FiberLengthCh1</td>\n",
       "      <td>ConvexHullPerimRatioCh1</td>\n",
       "      <td>-0.796776</td>\n",
       "    </tr>\n",
       "    <tr>\n",
       "      <th>2443</th>\n",
       "      <td>ConvexHullPerimRatioCh1</td>\n",
       "      <td>ShapeP2ACh1</td>\n",
       "      <td>-0.782233</td>\n",
       "    </tr>\n",
       "    <tr>\n",
       "      <th>448</th>\n",
       "      <td>ShapeP2ACh1</td>\n",
       "      <td>ConvexHullPerimRatioCh1</td>\n",
       "      <td>-0.782233</td>\n",
       "    </tr>\n",
       "    <tr>\n",
       "      <th>1727</th>\n",
       "      <td>SkewIntenCh4</td>\n",
       "      <td>IntenCoocEntropyCh4</td>\n",
       "      <td>-0.770701</td>\n",
       "    </tr>\n",
       "    <tr>\n",
       "      <th>2639</th>\n",
       "      <td>IntenCoocEntropyCh4</td>\n",
       "      <td>SkewIntenCh4</td>\n",
       "      <td>-0.770701</td>\n",
       "    </tr>\n",
       "    <tr>\n",
       "      <th>799</th>\n",
       "      <td>SkewIntenCh4</td>\n",
       "      <td>EntropyIntenCh4</td>\n",
       "      <td>-0.757348</td>\n",
       "    </tr>\n",
       "    <tr>\n",
       "      <th>2623</th>\n",
       "      <td>EntropyIntenCh4</td>\n",
       "      <td>SkewIntenCh4</td>\n",
       "      <td>-0.757348</td>\n",
       "    </tr>\n",
       "    <tr>\n",
       "      <th>2269</th>\n",
       "      <td>ConvexHullPerimRatioCh1</td>\n",
       "      <td>PerimCh1</td>\n",
       "      <td>-0.746434</td>\n",
       "    </tr>\n",
       "    <tr>\n",
       "      <th>445</th>\n",
       "      <td>PerimCh1</td>\n",
       "      <td>ConvexHullPerimRatioCh1</td>\n",
       "      <td>-0.746434</td>\n",
       "    </tr>\n",
       "    <tr>\n",
       "      <th>2476</th>\n",
       "      <td>ShapeBFRCh1</td>\n",
       "      <td>ShapeP2ACh1</td>\n",
       "      <td>-0.743847</td>\n",
       "    </tr>\n",
       "    <tr>\n",
       "      <th>2362</th>\n",
       "      <td>ShapeP2ACh1</td>\n",
       "      <td>ShapeBFRCh1</td>\n",
       "      <td>-0.743847</td>\n",
       "    </tr>\n",
       "    <tr>\n",
       "      <th>...</th>\n",
       "      <td>...</td>\n",
       "      <td>...</td>\n",
       "      <td>...</td>\n",
       "    </tr>\n",
       "    <tr>\n",
       "      <th>1004</th>\n",
       "      <td>EqSphereAreaCh1</td>\n",
       "      <td>EqEllipseProlateVolCh1</td>\n",
       "      <td>0.945060</td>\n",
       "    </tr>\n",
       "    <tr>\n",
       "      <th>1061</th>\n",
       "      <td>EqEllipseProlateVolCh1</td>\n",
       "      <td>EqSphereAreaCh1</td>\n",
       "      <td>0.945060</td>\n",
       "    </tr>\n",
       "    <tr>\n",
       "      <th>526</th>\n",
       "      <td>AvgIntenCh3</td>\n",
       "      <td>DiffIntenDensityCh3</td>\n",
       "      <td>0.949635</td>\n",
       "    </tr>\n",
       "    <tr>\n",
       "      <th>241</th>\n",
       "      <td>DiffIntenDensityCh3</td>\n",
       "      <td>AvgIntenCh3</td>\n",
       "      <td>0.949635</td>\n",
       "    </tr>\n",
       "    <tr>\n",
       "      <th>168</th>\n",
       "      <td>VarIntenCh1</td>\n",
       "      <td>AvgIntenCh1</td>\n",
       "      <td>0.949776</td>\n",
       "    </tr>\n",
       "    <tr>\n",
       "      <th>3018</th>\n",
       "      <td>AvgIntenCh1</td>\n",
       "      <td>VarIntenCh1</td>\n",
       "      <td>0.949776</td>\n",
       "    </tr>\n",
       "    <tr>\n",
       "      <th>124</th>\n",
       "      <td>DiffIntenDensityCh1</td>\n",
       "      <td>AvgIntenCh1</td>\n",
       "      <td>0.951805</td>\n",
       "    </tr>\n",
       "    <tr>\n",
       "      <th>466</th>\n",
       "      <td>AvgIntenCh1</td>\n",
       "      <td>DiffIntenDensityCh1</td>\n",
       "      <td>0.951805</td>\n",
       "    </tr>\n",
       "    <tr>\n",
       "      <th>516</th>\n",
       "      <td>VarIntenCh1</td>\n",
       "      <td>DiffIntenDensityCh1</td>\n",
       "      <td>0.955219</td>\n",
       "    </tr>\n",
       "    <tr>\n",
       "      <th>3024</th>\n",
       "      <td>DiffIntenDensityCh1</td>\n",
       "      <td>VarIntenCh1</td>\n",
       "      <td>0.955219</td>\n",
       "    </tr>\n",
       "    <tr>\n",
       "      <th>1118</th>\n",
       "      <td>EqEllipseOblateVolCh1</td>\n",
       "      <td>EqSphereVolCh1</td>\n",
       "      <td>0.961006</td>\n",
       "    </tr>\n",
       "    <tr>\n",
       "      <th>947</th>\n",
       "      <td>EqSphereVolCh1</td>\n",
       "      <td>EqEllipseOblateVolCh1</td>\n",
       "      <td>0.961006</td>\n",
       "    </tr>\n",
       "    <tr>\n",
       "      <th>300</th>\n",
       "      <td>DiffIntenDensityCh4</td>\n",
       "      <td>AvgIntenCh4</td>\n",
       "      <td>0.961308</td>\n",
       "    </tr>\n",
       "    <tr>\n",
       "      <th>585</th>\n",
       "      <td>AvgIntenCh4</td>\n",
       "      <td>DiffIntenDensityCh4</td>\n",
       "      <td>0.961308</td>\n",
       "    </tr>\n",
       "    <tr>\n",
       "      <th>1005</th>\n",
       "      <td>EqSphereVolCh1</td>\n",
       "      <td>EqEllipseProlateVolCh1</td>\n",
       "      <td>0.974095</td>\n",
       "    </tr>\n",
       "    <tr>\n",
       "      <th>1119</th>\n",
       "      <td>EqEllipseProlateVolCh1</td>\n",
       "      <td>EqSphereVolCh1</td>\n",
       "      <td>0.974095</td>\n",
       "    </tr>\n",
       "    <tr>\n",
       "      <th>1120</th>\n",
       "      <td>EqSphereAreaCh1</td>\n",
       "      <td>EqSphereVolCh1</td>\n",
       "      <td>0.975259</td>\n",
       "    </tr>\n",
       "    <tr>\n",
       "      <th>1063</th>\n",
       "      <td>EqSphereVolCh1</td>\n",
       "      <td>EqSphereAreaCh1</td>\n",
       "      <td>0.975259</td>\n",
       "    </tr>\n",
       "    <tr>\n",
       "      <th>77</th>\n",
       "      <td>EqSphereVolCh1</td>\n",
       "      <td>AreaCh1</td>\n",
       "      <td>0.975259</td>\n",
       "    </tr>\n",
       "    <tr>\n",
       "      <th>1103</th>\n",
       "      <td>AreaCh1</td>\n",
       "      <td>EqSphereVolCh1</td>\n",
       "      <td>0.975259</td>\n",
       "    </tr>\n",
       "    <tr>\n",
       "      <th>2393</th>\n",
       "      <td>EqEllipseLWRCh1</td>\n",
       "      <td>ShapeLWRCh1</td>\n",
       "      <td>0.976195</td>\n",
       "    </tr>\n",
       "    <tr>\n",
       "      <th>911</th>\n",
       "      <td>ShapeLWRCh1</td>\n",
       "      <td>EqEllipseLWRCh1</td>\n",
       "      <td>0.976195</td>\n",
       "    </tr>\n",
       "    <tr>\n",
       "      <th>72</th>\n",
       "      <td>EqCircDiamCh1</td>\n",
       "      <td>AreaCh1</td>\n",
       "      <td>0.976892</td>\n",
       "    </tr>\n",
       "    <tr>\n",
       "      <th>813</th>\n",
       "      <td>AreaCh1</td>\n",
       "      <td>EqCircDiamCh1</td>\n",
       "      <td>0.976892</td>\n",
       "    </tr>\n",
       "    <tr>\n",
       "      <th>830</th>\n",
       "      <td>EqSphereAreaCh1</td>\n",
       "      <td>EqCircDiamCh1</td>\n",
       "      <td>0.976898</td>\n",
       "    </tr>\n",
       "    <tr>\n",
       "      <th>1058</th>\n",
       "      <td>EqCircDiamCh1</td>\n",
       "      <td>EqSphereAreaCh1</td>\n",
       "      <td>0.976898</td>\n",
       "    </tr>\n",
       "    <tr>\n",
       "      <th>1315</th>\n",
       "      <td>PerimCh1</td>\n",
       "      <td>FiberLengthCh1</td>\n",
       "      <td>0.985296</td>\n",
       "    </tr>\n",
       "    <tr>\n",
       "      <th>2284</th>\n",
       "      <td>FiberLengthCh1</td>\n",
       "      <td>PerimCh1</td>\n",
       "      <td>0.985296</td>\n",
       "    </tr>\n",
       "    <tr>\n",
       "      <th>1045</th>\n",
       "      <td>AreaCh1</td>\n",
       "      <td>EqSphereAreaCh1</td>\n",
       "      <td>0.999999</td>\n",
       "    </tr>\n",
       "    <tr>\n",
       "      <th>76</th>\n",
       "      <td>EqSphereAreaCh1</td>\n",
       "      <td>AreaCh1</td>\n",
       "      <td>0.999999</td>\n",
       "    </tr>\n",
       "  </tbody>\n",
       "</table>\n",
       "<p>3306 rows × 3 columns</p>\n",
       "</div>"
      ],
      "text/plain": [
       "                        index                 variable     value\n",
       "1654          IntenCoocMaxCh3      IntenCoocEntropyCh3 -0.990544\n",
       "1768      IntenCoocEntropyCh3          IntenCoocMaxCh3 -0.990544\n",
       "1713          IntenCoocMaxCh4      IntenCoocEntropyCh4 -0.984572\n",
       "1827      IntenCoocEntropyCh4          IntenCoocMaxCh4 -0.984572\n",
       "1648          IntenCoocASMCh3      IntenCoocEntropyCh3 -0.945202\n",
       "1420      IntenCoocEntropyCh3          IntenCoocASMCh3 -0.945202\n",
       "1707          IntenCoocASMCh4      IntenCoocEntropyCh4 -0.944684\n",
       "1479      IntenCoocEntropyCh4          IntenCoocASMCh4 -0.944684\n",
       "726           IntenCoocMaxCh3          EntropyIntenCh3 -0.922840\n",
       "1752          EntropyIntenCh3          IntenCoocMaxCh3 -0.922840\n",
       "1404          EntropyIntenCh3          IntenCoocASMCh3 -0.893034\n",
       "720           IntenCoocASMCh3          EntropyIntenCh3 -0.893034\n",
       "1811          EntropyIntenCh4          IntenCoocMaxCh4 -0.859285\n",
       "785           IntenCoocMaxCh4          EntropyIntenCh4 -0.859285\n",
       "388               ShapeBFRCh1   ConvexHullAreaRatioCh1 -0.825531\n",
       "2326   ConvexHullAreaRatioCh1              ShapeBFRCh1 -0.825531\n",
       "1463          EntropyIntenCh4          IntenCoocASMCh4 -0.822126\n",
       "779           IntenCoocASMCh4          EntropyIntenCh4 -0.822126\n",
       "1283  ConvexHullPerimRatioCh1           FiberLengthCh1 -0.796776\n",
       "428            FiberLengthCh1  ConvexHullPerimRatioCh1 -0.796776\n",
       "2443  ConvexHullPerimRatioCh1              ShapeP2ACh1 -0.782233\n",
       "448               ShapeP2ACh1  ConvexHullPerimRatioCh1 -0.782233\n",
       "1727             SkewIntenCh4      IntenCoocEntropyCh4 -0.770701\n",
       "2639      IntenCoocEntropyCh4             SkewIntenCh4 -0.770701\n",
       "799              SkewIntenCh4          EntropyIntenCh4 -0.757348\n",
       "2623          EntropyIntenCh4             SkewIntenCh4 -0.757348\n",
       "2269  ConvexHullPerimRatioCh1                 PerimCh1 -0.746434\n",
       "445                  PerimCh1  ConvexHullPerimRatioCh1 -0.746434\n",
       "2476              ShapeBFRCh1              ShapeP2ACh1 -0.743847\n",
       "2362              ShapeP2ACh1              ShapeBFRCh1 -0.743847\n",
       "...                       ...                      ...       ...\n",
       "1004          EqSphereAreaCh1   EqEllipseProlateVolCh1  0.945060\n",
       "1061   EqEllipseProlateVolCh1          EqSphereAreaCh1  0.945060\n",
       "526               AvgIntenCh3      DiffIntenDensityCh3  0.949635\n",
       "241       DiffIntenDensityCh3              AvgIntenCh3  0.949635\n",
       "168               VarIntenCh1              AvgIntenCh1  0.949776\n",
       "3018              AvgIntenCh1              VarIntenCh1  0.949776\n",
       "124       DiffIntenDensityCh1              AvgIntenCh1  0.951805\n",
       "466               AvgIntenCh1      DiffIntenDensityCh1  0.951805\n",
       "516               VarIntenCh1      DiffIntenDensityCh1  0.955219\n",
       "3024      DiffIntenDensityCh1              VarIntenCh1  0.955219\n",
       "1118    EqEllipseOblateVolCh1           EqSphereVolCh1  0.961006\n",
       "947            EqSphereVolCh1    EqEllipseOblateVolCh1  0.961006\n",
       "300       DiffIntenDensityCh4              AvgIntenCh4  0.961308\n",
       "585               AvgIntenCh4      DiffIntenDensityCh4  0.961308\n",
       "1005           EqSphereVolCh1   EqEllipseProlateVolCh1  0.974095\n",
       "1119   EqEllipseProlateVolCh1           EqSphereVolCh1  0.974095\n",
       "1120          EqSphereAreaCh1           EqSphereVolCh1  0.975259\n",
       "1063           EqSphereVolCh1          EqSphereAreaCh1  0.975259\n",
       "77             EqSphereVolCh1                  AreaCh1  0.975259\n",
       "1103                  AreaCh1           EqSphereVolCh1  0.975259\n",
       "2393          EqEllipseLWRCh1              ShapeLWRCh1  0.976195\n",
       "911               ShapeLWRCh1          EqEllipseLWRCh1  0.976195\n",
       "72              EqCircDiamCh1                  AreaCh1  0.976892\n",
       "813                   AreaCh1            EqCircDiamCh1  0.976892\n",
       "830           EqSphereAreaCh1            EqCircDiamCh1  0.976898\n",
       "1058            EqCircDiamCh1          EqSphereAreaCh1  0.976898\n",
       "1315                 PerimCh1           FiberLengthCh1  0.985296\n",
       "2284           FiberLengthCh1                 PerimCh1  0.985296\n",
       "1045                  AreaCh1          EqSphereAreaCh1  0.999999\n",
       "76            EqSphereAreaCh1                  AreaCh1  0.999999\n",
       "\n",
       "[3306 rows x 3 columns]"
      ]
     },
     "execution_count": 60,
     "metadata": {},
     "output_type": "execute_result"
    }
   ],
   "source": [
    "temp = correlations.reset_index(level=0)\n",
    "corrs = pd.melt(temp, id_vars=['index'])\n",
    "\n",
    "(corrs[~(corrs['index'] == corrs['variable'])]).sort_values(by='value')"
   ]
  }
 ],
 "metadata": {
  "kernelspec": {
   "display_name": "Python 3",
   "language": "python",
   "name": "python3"
  },
  "language_info": {
   "codemirror_mode": {
    "name": "ipython",
    "version": 3
   },
   "file_extension": ".py",
   "mimetype": "text/x-python",
   "name": "python",
   "nbconvert_exporter": "python",
   "pygments_lexer": "ipython3",
   "version": "3.5.2"
  }
 },
 "nbformat": 4,
 "nbformat_minor": 2
}
