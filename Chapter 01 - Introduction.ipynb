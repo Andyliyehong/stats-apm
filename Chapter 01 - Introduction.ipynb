{
 "cells": [
  {
   "cell_type": "markdown",
   "metadata": {},
   "source": [
    "# Chapter 01 - Introduction"
   ]
  },
  {
   "cell_type": "markdown",
   "metadata": {},
   "source": [
    "### Fields\n",
    "\n",
    "* machine learning\n",
    "* artifical intelligence\n",
    "* pattern recognition\n",
    "* data mining\n",
    "* predictive analytics\n",
    "* knowledge discovery\n",
    "\n",
    "### General Objective\n",
    "\n",
    "to make an accurate prediction\n",
    "\n",
    "### Predictive Modeling\n",
    "\n",
    "* common phrase to represent all the fields noted above\n",
    "* the process of developing a mathematical tool or model that generates an accurate prediction"
   ]
  },
  {
   "cell_type": "markdown",
   "metadata": {},
   "source": [
    "### Common Reasons for Model Failure\n",
    "\n",
    "* inadequate pre-processing of the data\n",
    "* inadequate model validation\n",
    "* unjustified extrapolation\n",
    "* over-fitting the model to the existing data\n",
    "* exploring relatively few models when searching for predictive relationships"
   ]
  },
  {
   "cell_type": "markdown",
   "metadata": {},
   "source": [
    "## Prediction vs. Interpretation\n",
    "\n",
    "* primary focus is predictive _accuracy_\n",
    "* secondary interst is interpretability of model and understanding how/why it works"
   ]
  },
  {
   "cell_type": "markdown",
   "metadata": {},
   "source": [
    "## Key Ingredients of Predictive Models\n",
    "\n",
    "* expert knowledge and context of the problem\n",
    "* relevant data\n",
    "* subject-specific knowledge\n",
    "* versatile computational toolbox, including techniques for data pre-processing, visualization, and a suite of modeling tools"
   ]
  },
  {
   "cell_type": "markdown",
   "metadata": {},
   "source": [
    "## Terminology\n",
    "\n",
    "* **instance**, sample, data point, observation: a single, independent unit of data\n",
    "* **training set**: data used to develop models\n",
    "* **test set** and **validation set**: data used for evaluating performance of candidate models\n",
    "* **predictors**, independent variables, attributes, descriptors: data used as input for the prediction equation\n",
    "* **response**, outcome, dependent variable, target, class: the outcome event or quantity that is being predicted\n",
    "* **continuous data**: data that have natural, numeri scales\n",
    "* **categorical data**, nominal, attribute, discrete: data that take on specific values that have no scales\n",
    "* **model training**, model building, parameter estimation: the process of using data to determine values of model equations"
   ]
  },
  {
   "cell_type": "markdown",
   "metadata": {},
   "source": [
    "## Characteristics of Data Sets\n",
    "\n",
    "* response - continuous vs. categorical\n",
    "* response (categorical) - # of categories\n",
    "* response (continuous) - symmetric vs. skewed distribution\n",
    "* response (categorical) - balanced vs. unbalanced distribution\n",
    "* predictors - continuous, count, and/or categorical\n",
    "* missing values\n",
    "* scales of measurements\n",
    "* correlation/association between predictors\n",
    "* sparse predictors\n",
    "* predictor (continuous) - symmetric vs. skewed distribution\n",
    "* predictor (categorical) - balanced vs. unbalanced distribution\n",
    "* relationship between number of samples ($n$) and the number of predictors ($P$)"
   ]
  },
  {
   "cell_type": "markdown",
   "metadata": {},
   "source": [
    "## Notation\n",
    "\n",
    "[p. 15]"
   ]
  }
 ],
 "metadata": {
  "kernelspec": {
   "display_name": "Python 3",
   "language": "python",
   "name": "python3"
  },
  "language_info": {
   "codemirror_mode": {
    "name": "ipython",
    "version": 3
   },
   "file_extension": ".py",
   "mimetype": "text/x-python",
   "name": "python",
   "nbconvert_exporter": "python",
   "pygments_lexer": "ipython3",
   "version": "3.5.2"
  }
 },
 "nbformat": 4,
 "nbformat_minor": 0
}
