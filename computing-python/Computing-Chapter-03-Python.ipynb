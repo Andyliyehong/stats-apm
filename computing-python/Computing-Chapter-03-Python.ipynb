{
 "cells": [
  {
   "cell_type": "markdown",
   "metadata": {},
   "source": [
    "# Computing - Chapter 03 - (Python)"
   ]
  },
  {
   "cell_type": "code",
   "execution_count": 1,
   "metadata": {
    "collapsed": true
   },
   "outputs": [],
   "source": [
    "import numpy as np\n",
    "import pandas as pd\n",
    "from pandas import DataFrame,Series"
   ]
  },
  {
   "cell_type": "code",
   "execution_count": 2,
   "metadata": {
    "collapsed": true
   },
   "outputs": [],
   "source": [
    "import matplotlib.pyplot as plt\n",
    "%matplotlib inline"
   ]
  },
  {
   "cell_type": "code",
   "execution_count": 12,
   "metadata": {},
   "outputs": [
    {
     "data": {
      "text/html": [
       "<div>\n",
       "<table border=\"1\" class=\"dataframe\">\n",
       "  <thead>\n",
       "    <tr style=\"text-align: right;\">\n",
       "      <th></th>\n",
       "      <th>Cell</th>\n",
       "      <th>Case</th>\n",
       "      <th>Class</th>\n",
       "      <th>AngleCh1</th>\n",
       "      <th>AngleStatusCh1</th>\n",
       "      <th>AreaCh1</th>\n",
       "      <th>AreaStatusCh1</th>\n",
       "      <th>AvgIntenCh1</th>\n",
       "      <th>AvgIntenCh2</th>\n",
       "      <th>AvgIntenCh3</th>\n",
       "      <th>...</th>\n",
       "      <th>VarIntenCh1</th>\n",
       "      <th>VarIntenCh3</th>\n",
       "      <th>VarIntenCh4</th>\n",
       "      <th>VarIntenStatusCh1</th>\n",
       "      <th>VarIntenStatusCh3</th>\n",
       "      <th>VarIntenStatusCh4</th>\n",
       "      <th>WidthCh1</th>\n",
       "      <th>WidthStatusCh1</th>\n",
       "      <th>XCentroid</th>\n",
       "      <th>YCentroid</th>\n",
       "    </tr>\n",
       "  </thead>\n",
       "  <tbody>\n",
       "    <tr>\n",
       "      <th>0</th>\n",
       "      <td>207827637</td>\n",
       "      <td>Test</td>\n",
       "      <td>PS</td>\n",
       "      <td>143.247705</td>\n",
       "      <td>1</td>\n",
       "      <td>185</td>\n",
       "      <td>0</td>\n",
       "      <td>15.711864</td>\n",
       "      <td>3.954802</td>\n",
       "      <td>9.548023</td>\n",
       "      <td>...</td>\n",
       "      <td>12.474676</td>\n",
       "      <td>7.609035</td>\n",
       "      <td>2.714100</td>\n",
       "      <td>0</td>\n",
       "      <td>2</td>\n",
       "      <td>2</td>\n",
       "      <td>10.642974</td>\n",
       "      <td>2</td>\n",
       "      <td>42</td>\n",
       "      <td>14</td>\n",
       "    </tr>\n",
       "    <tr>\n",
       "      <th>1</th>\n",
       "      <td>207932307</td>\n",
       "      <td>Train</td>\n",
       "      <td>PS</td>\n",
       "      <td>133.752037</td>\n",
       "      <td>0</td>\n",
       "      <td>819</td>\n",
       "      <td>1</td>\n",
       "      <td>31.923274</td>\n",
       "      <td>205.878517</td>\n",
       "      <td>69.916880</td>\n",
       "      <td>...</td>\n",
       "      <td>18.809225</td>\n",
       "      <td>56.715352</td>\n",
       "      <td>118.388139</td>\n",
       "      <td>0</td>\n",
       "      <td>0</td>\n",
       "      <td>0</td>\n",
       "      <td>32.161261</td>\n",
       "      <td>1</td>\n",
       "      <td>215</td>\n",
       "      <td>347</td>\n",
       "    </tr>\n",
       "    <tr>\n",
       "      <th>2</th>\n",
       "      <td>207932463</td>\n",
       "      <td>Train</td>\n",
       "      <td>WS</td>\n",
       "      <td>106.646387</td>\n",
       "      <td>0</td>\n",
       "      <td>431</td>\n",
       "      <td>0</td>\n",
       "      <td>28.038835</td>\n",
       "      <td>115.315534</td>\n",
       "      <td>63.941748</td>\n",
       "      <td>...</td>\n",
       "      <td>17.295643</td>\n",
       "      <td>37.671053</td>\n",
       "      <td>49.470524</td>\n",
       "      <td>0</td>\n",
       "      <td>0</td>\n",
       "      <td>0</td>\n",
       "      <td>21.185525</td>\n",
       "      <td>0</td>\n",
       "      <td>371</td>\n",
       "      <td>252</td>\n",
       "    </tr>\n",
       "    <tr>\n",
       "      <th>3</th>\n",
       "      <td>207932470</td>\n",
       "      <td>Train</td>\n",
       "      <td>PS</td>\n",
       "      <td>69.150325</td>\n",
       "      <td>0</td>\n",
       "      <td>298</td>\n",
       "      <td>0</td>\n",
       "      <td>19.456140</td>\n",
       "      <td>101.294737</td>\n",
       "      <td>28.217544</td>\n",
       "      <td>...</td>\n",
       "      <td>13.818968</td>\n",
       "      <td>30.005643</td>\n",
       "      <td>24.749537</td>\n",
       "      <td>0</td>\n",
       "      <td>0</td>\n",
       "      <td>2</td>\n",
       "      <td>13.392830</td>\n",
       "      <td>0</td>\n",
       "      <td>487</td>\n",
       "      <td>295</td>\n",
       "    </tr>\n",
       "    <tr>\n",
       "      <th>4</th>\n",
       "      <td>207932455</td>\n",
       "      <td>Test</td>\n",
       "      <td>PS</td>\n",
       "      <td>2.887837</td>\n",
       "      <td>2</td>\n",
       "      <td>285</td>\n",
       "      <td>0</td>\n",
       "      <td>24.275735</td>\n",
       "      <td>111.415441</td>\n",
       "      <td>20.474265</td>\n",
       "      <td>...</td>\n",
       "      <td>15.407972</td>\n",
       "      <td>20.504288</td>\n",
       "      <td>45.450457</td>\n",
       "      <td>0</td>\n",
       "      <td>0</td>\n",
       "      <td>0</td>\n",
       "      <td>13.198561</td>\n",
       "      <td>0</td>\n",
       "      <td>283</td>\n",
       "      <td>159</td>\n",
       "    </tr>\n",
       "  </tbody>\n",
       "</table>\n",
       "<p>5 rows × 119 columns</p>\n",
       "</div>"
      ],
      "text/plain": [
       "        Cell   Case Class    AngleCh1  AngleStatusCh1  AreaCh1  AreaStatusCh1  \\\n",
       "0  207827637   Test    PS  143.247705               1      185              0   \n",
       "1  207932307  Train    PS  133.752037               0      819              1   \n",
       "2  207932463  Train    WS  106.646387               0      431              0   \n",
       "3  207932470  Train    PS   69.150325               0      298              0   \n",
       "4  207932455   Test    PS    2.887837               2      285              0   \n",
       "\n",
       "   AvgIntenCh1  AvgIntenCh2  AvgIntenCh3    ...      VarIntenCh1  VarIntenCh3  \\\n",
       "0    15.711864     3.954802     9.548023    ...        12.474676     7.609035   \n",
       "1    31.923274   205.878517    69.916880    ...        18.809225    56.715352   \n",
       "2    28.038835   115.315534    63.941748    ...        17.295643    37.671053   \n",
       "3    19.456140   101.294737    28.217544    ...        13.818968    30.005643   \n",
       "4    24.275735   111.415441    20.474265    ...        15.407972    20.504288   \n",
       "\n",
       "   VarIntenCh4  VarIntenStatusCh1  VarIntenStatusCh3  VarIntenStatusCh4  \\\n",
       "0     2.714100                  0                  2                  2   \n",
       "1   118.388139                  0                  0                  0   \n",
       "2    49.470524                  0                  0                  0   \n",
       "3    24.749537                  0                  0                  2   \n",
       "4    45.450457                  0                  0                  0   \n",
       "\n",
       "    WidthCh1  WidthStatusCh1  XCentroid  YCentroid  \n",
       "0  10.642974               2         42         14  \n",
       "1  32.161261               1        215        347  \n",
       "2  21.185525               0        371        252  \n",
       "3  13.392830               0        487        295  \n",
       "4  13.198561               0        283        159  \n",
       "\n",
       "[5 rows x 119 columns]"
      ]
     },
     "execution_count": 12,
     "metadata": {},
     "output_type": "execute_result"
    }
   ],
   "source": [
    "# load the data from file\n",
    "DATA_PATH = \"../data\"\n",
    "segDataRaw = pd.read_csv(DATA_PATH + \"/segmentationOriginal.csv\")\n",
    "segDataRaw.head()"
   ]
  },
  {
   "cell_type": "code",
   "execution_count": 13,
   "metadata": {},
   "outputs": [],
   "source": [
    "# isolate just the training examples\n",
    "segData = segDataRaw[segDataRaw.Case == \"Train\"]"
   ]
  },
  {
   "cell_type": "code",
   "execution_count": 14,
   "metadata": {},
   "outputs": [],
   "source": [
    "# pull out some of the columns\n",
    "cellId = segData.Cell\n",
    "cellClass = segData['Class']\n",
    "case = segData.Case"
   ]
  },
  {
   "cell_type": "code",
   "execution_count": 15,
   "metadata": {},
   "outputs": [],
   "source": [
    "# now remove the columns\n",
    "segData = segData.drop(['Cell', 'Class', 'Case'], axis=1)"
   ]
  },
  {
   "cell_type": "code",
   "execution_count": 21,
   "metadata": {},
   "outputs": [],
   "source": [
    "# remove all \"Status\" columns\n",
    "segData = segData.drop([c for c in segData.columns if \"Status\" in c], axis=1)"
   ]
  },
  {
   "cell_type": "markdown",
   "metadata": {},
   "source": [
    "## Transformations"
   ]
  },
  {
   "cell_type": "code",
   "execution_count": 24,
   "metadata": {},
   "outputs": [
    {
     "data": {
      "text/plain": [
       "-0.024298630435426738"
      ]
     },
     "execution_count": 24,
     "metadata": {},
     "output_type": "execute_result"
    }
   ],
   "source": [
    "# for one predictor\n",
    "from scipy.stats import skew\n",
    "skew(segData.AngleCh1)"
   ]
  },
  {
   "cell_type": "code",
   "execution_count": 31,
   "metadata": {},
   "outputs": [
    {
     "name": "stdout",
     "output_type": "stream",
     "text": [
      "('AngleCh1', -0.024298630435426738)\n",
      "('AreaCh1', 3.5303544460710095)\n",
      "('AvgIntenCh1', 2.9635898861967189)\n",
      "('AvgIntenCh2', 0.84942278590563092)\n",
      "('AvgIntenCh3', 2.2056202512609824)\n",
      "('AvgIntenCh4', 1.9033000652892444)\n",
      "('ConvexHullAreaRatioCh1', 2.4802682455302048)\n",
      "('ConvexHullPerimRatioCh1', -1.3060400675531065)\n",
      "('DiffIntenDensityCh1', 2.7645822436561183)\n",
      "('DiffIntenDensityCh3', 2.0882915452888313)\n",
      "('DiffIntenDensityCh4', 1.902059809185833)\n",
      "('EntropyIntenCh1', 0.39848707723766968)\n",
      "('EntropyIntenCh3', -1.0044462240251122)\n",
      "('EntropyIntenCh4', -0.82913722367650411)\n",
      "('EqCircDiamCh1', 1.9584410851154008)\n",
      "('EqEllipseLWRCh1', 2.6980038315429891)\n",
      "('EqEllipseOblateVolCh1', 5.4974840797946589)\n",
      "('EqEllipseProlateVolCh1', 6.0798705355263216)\n",
      "('EqSphereAreaCh1', 3.5303875088202039)\n",
      "('EqSphereVolCh1', 5.748044589334552)\n",
      "('FiberAlign2Ch3', -0.085204159259055071)\n",
      "('FiberAlign2Ch4', -0.10861726066145229)\n",
      "('FiberLengthCh1', 2.3416005247658074)\n",
      "('FiberWidthCh1', 1.1100875898659217)\n",
      "('IntenCoocASMCh3', 2.4202846179110176)\n",
      "('IntenCoocASMCh4', 2.5155498795317772)\n",
      "('IntenCoocContrastCh3', 1.6524414319975398)\n",
      "('IntenCoocContrastCh4', 3.4754701284699387)\n",
      "('IntenCoocEntropyCh3', -1.0772955733144955)\n",
      "('IntenCoocEntropyCh4', -1.1620111208178443)\n",
      "('IntenCoocMaxCh3', 0.97910279287859558)\n",
      "('IntenCoocMaxCh4', 1.0654094352040031)\n",
      "('KurtIntenCh1', 12.878789053640087)\n",
      "('KurtIntenCh3', 5.5138054749106091)\n",
      "('KurtIntenCh4', 6.928801364701453)\n",
      "('LengthCh1', 1.911956326047956)\n",
      "('NeighborAvgDistCh1', 0.37979875405247748)\n",
      "('NeighborMinDistCh1', 2.4100112658754567)\n",
      "('NeighborVarDistCh1', -0.11288070784027741)\n",
      "('PerimCh1', 2.59334260418147)\n",
      "('ShapeBFRCh1', -0.44541120097598985)\n",
      "('ShapeLWRCh1', 2.4947029343304474)\n",
      "('ShapeP2ACh1', 2.1608635377643237)\n",
      "('SkewIntenCh1', 2.191239924090894)\n",
      "('SkewIntenCh3', 2.1749237172299658)\n",
      "('SkewIntenCh4', 2.2951007940204091)\n",
      "('SpotFiberCountCh3', 1.5623373981233963)\n",
      "('SpotFiberCountCh4', 2.6253760962702604)\n",
      "('TotalIntenCh1', 5.4076408035137424)\n",
      "('TotalIntenCh2', 1.44709789972015)\n",
      "('TotalIntenCh3', 2.4352912930056156)\n",
      "('TotalIntenCh4', 3.1541870420774258)\n",
      "('VarIntenCh1', 2.6819215013901401)\n",
      "('VarIntenCh3', 2.3951841812380814)\n",
      "('VarIntenCh4', 2.1649608383582559)\n",
      "('WidthCh1', 1.8828826032476285)\n",
      "('XCentroid', -0.10574664809206914)\n",
      "('YCentroid', 0.49639156584855343)\n"
     ]
    }
   ],
   "source": [
    "# apply across all columns\n",
    "skewValues = segData.apply(skew, axis=0)\n",
    "[print(x) for x in zip(segData.columns, skewValues)];"
   ]
  },
  {
   "cell_type": "code",
   "execution_count": 42,
   "metadata": {},
   "outputs": [
    {
     "name": "stdout",
     "output_type": "stream",
     "text": [
      "lambda: -0.855869\n"
     ]
    }
   ],
   "source": [
    "from scipy.stats import boxcox\n",
    "\n",
    "x = boxcox(segData.AreaCh1)\n",
    "\n",
    "print('lambda: %f' % (x[1],))"
   ]
  },
  {
   "cell_type": "code",
   "execution_count": 39,
   "metadata": {},
   "outputs": [
    {
     "data": {
      "text/plain": [
       "-0.85586872223451771"
      ]
     },
     "execution_count": 39,
     "metadata": {},
     "output_type": "execute_result"
    }
   ],
   "source": [
    "x[1]"
   ]
  },
  {
   "cell_type": "code",
   "execution_count": 40,
   "metadata": {},
   "outputs": [
    {
     "data": {
      "text/plain": [
       "(array([ 1.16465199,  1.16190479,  1.15949121, ...,  1.15512359,\n",
       "         1.15959234,  1.16203112]), -0.85586872223451771)"
      ]
     },
     "execution_count": 40,
     "metadata": {},
     "output_type": "execute_result"
    }
   ],
   "source": [
    "x"
   ]
  }
 ],
 "metadata": {
  "kernelspec": {
   "display_name": "Python 3",
   "language": "python",
   "name": "python3"
  },
  "language_info": {
   "codemirror_mode": {
    "name": "ipython",
    "version": 3
   },
   "file_extension": ".py",
   "mimetype": "text/x-python",
   "name": "python",
   "nbconvert_exporter": "python",
   "pygments_lexer": "ipython3",
   "version": "3.5.2"
  }
 },
 "nbformat": 4,
 "nbformat_minor": 2
}
