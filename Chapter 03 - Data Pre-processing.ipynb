{
 "cells": [
  {
   "cell_type": "markdown",
   "metadata": {},
   "source": [
    "# Chapter 03 - Data Pre-processing"
   ]
  },
  {
   "cell_type": "markdown",
   "metadata": {},
   "source": [
    "* Data pre-processing: e.g. addition, deletion, or transformation of training set data\n",
    "* need is determined by the type of model\n",
    "* _unsupervised_ vs. _supervised_ approaches to data processing: whether the outcome variable is considered (supervised) or not (unsupervised)\n",
    "* _feature engineering_: how predictors are encoded"
   ]
  },
  {
   "cell_type": "markdown",
   "metadata": {},
   "source": [
    "## 3.2 - Data Transformations for Individual Predictors\n",
    "\n",
    "### Centering and Scaling\n",
    "\n",
    "* **center** a predictor by subtracting the mean value of the predictor from all values\n",
    "    * results in a mean of '0'\n",
    "* **scale** a predictor by dividing each value by the predictor's standard deviation\n",
    "    * results in a standard deviations of '1'\n",
    "* benefit: improves numerical stability for some calculations\n",
    "* negative: lose some interpretability in that values are no longer in \"original\" units\n",
    "\n",
    "### Transformations to Resolve Skewness\n",
    "\n",
    "* un-skewed: distribution is roughly symmetric; probablility of falling on each side of mean is roughly equal\n",
    "* right-skewed: distribution has a large number of points on the left side of the distribution\n",
    "* left-skewed: sim.\n",
    "* skewness statistic:\n",
    "\n",
    "\\begin{equation}\n",
    "skewness = \\frac{\\sum{(x_i - \\bar{x})^3}}{(n - 1)v^{3/2} }\n",
    "\\end{equation}\n",
    "\n",
    "where \n",
    "\\begin{equation}\n",
    "v = \\frac{\\sum{(x_i - \\bar{x})^2}}{(n-1)}\n",
    "\\end{equation}\n",
    "\n",
    "* if symmetrics, skewness statistics is close to 0\n",
    "* right skewed generates larger, positive values\n",
    "* left skewed generates smaller, negative values\n",
    "\n",
    "Some possible approaches to remove skewness:\n",
    "\n",
    "* replace data with log, square root, or inverse\n"
   ]
  },
  {
   "cell_type": "code",
   "execution_count": null,
   "metadata": {
    "collapsed": true
   },
   "outputs": [],
   "source": []
  }
 ],
 "metadata": {
  "kernelspec": {
   "display_name": "Python 3",
   "language": "python",
   "name": "python3"
  },
  "language_info": {
   "codemirror_mode": {
    "name": "ipython",
    "version": 3
   },
   "file_extension": ".py",
   "mimetype": "text/x-python",
   "name": "python",
   "nbconvert_exporter": "python",
   "pygments_lexer": "ipython3",
   "version": "3.5.2"
  }
 },
 "nbformat": 4,
 "nbformat_minor": 1
}
