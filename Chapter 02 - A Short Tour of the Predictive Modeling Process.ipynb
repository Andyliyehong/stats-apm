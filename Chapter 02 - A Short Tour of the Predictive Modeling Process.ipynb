{
 "cells": [
  {
   "cell_type": "markdown",
   "metadata": {},
   "source": [
    "# Chapter 02 - A Short Tour of the Predictive Modeling Process"
   ]
  },
  {
   "cell_type": "markdown",
   "metadata": {},
   "source": [
    "## 2.2 Themes"
   ]
  },
  {
   "cell_type": "markdown",
   "metadata": {},
   "source": [
    "### Data Splitting\n",
    "\n",
    "* approach for selecting train/test sets driven largely by goals of the analysis: \n",
    "  * _extrapolation_: predicting to a new population of values, VS\n",
    "  * _interpolation_: predicting against the same population\n",
    "* how much to allocate to train/test depends on situation:\n",
    "  * availability of data (amount) drives decision\n",
    "  * smaller data set may push towards resampling techniques\n",
    "  * less critical with larger sets"
   ]
  },
  {
   "cell_type": "markdown",
   "metadata": {},
   "source": [
    "### Estimating Performance\n",
    "\n",
    "* two important approaches:\n",
    "  * quantitative techniques (i.e. RMSE, etc.)\n",
    "  * qualitative evaluation: visualizations (e.g. observed vs. predicted), etc."
   ]
  },
  {
   "cell_type": "markdown",
   "metadata": {},
   "source": [
    "### Evaluating Several Models\n",
    "\n",
    "* strong case can be made for trying a wide variety of techniques to find the modeling approach that best suits the data and situation"
   ]
  },
  {
   "cell_type": "markdown",
   "metadata": {},
   "source": [
    "### Model Selection\n",
    "\n",
    "* two types:\n",
    "  * choosing _between_ models (i.e. model types)\n",
    "  * choosing _within_ a model type, on the best model (i.e. tuning parameters, etc.)\n",
    "* often rely on cross-validation and the test set to help make these choices\n",
    "* goal of the book is to help gain intuition regarding the strengths and weaknesses of different models to make informed decisions"
   ]
  }
 ],
 "metadata": {
  "kernelspec": {
   "display_name": "Python 3",
   "language": "python",
   "name": "python3"
  },
  "language_info": {
   "codemirror_mode": {
    "name": "ipython",
    "version": 3
   },
   "file_extension": ".py",
   "mimetype": "text/x-python",
   "name": "python",
   "nbconvert_exporter": "python",
   "pygments_lexer": "ipython3",
   "version": "3.5.2"
  }
 },
 "nbformat": 4,
 "nbformat_minor": 0
}
